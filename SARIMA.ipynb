{
 "cells": [
  {
   "cell_type": "code",
   "execution_count": 2,
   "metadata": {},
   "outputs": [],
   "source": [
    "import pandas as pd\n",
    "import numpy as np\n",
    "import matplotlib.pyplot as plt\n",
    "from statsmodels.tsa.statespace.sarimax import SARIMAX\n",
    "from statsmodels.tsa.stattools import adfuller\n",
    "from sklearn.model_selection import train_test_split\n",
    "from sklearn.metrics import mean_absolute_error, mean_squared_error\n",
    "import pandas as pd\n",
    "from statsmodels.tsa.statespace.sarimax import SARIMAX\n",
    "import xgboost as xgb\n"
   ]
  },
  {
   "cell_type": "code",
   "execution_count": 5,
   "metadata": {},
   "outputs": [],
   "source": [
    "# Load the data\n",
    "df = pd.read_csv('C:/Users/a0095989/Desktop/important/Thesis/Model_Thesis/imputed_deu_data1.csv')\n",
    "\n",
    "# Convert Year/Month into a datetime format for each city\n",
    "df['Date'] = pd.to_datetime(df[['Year', 'Month']].assign(day=1))\n",
    "\n",
    "# Prepare data for splitting by city\n",
    "train, validate, test = {}, {}, {}\n",
    "\n",
    "# Loop through each city and split the data\n",
    "for city in df['City'].unique():\n",
    "    #print(f\"Splitting data for {city}...\")\n",
    "    \n",
    "    # Filter data for the city\n",
    "    df_city = df[df['City'] == city].copy()\n",
    "    df_city.set_index('Date', inplace=True)\n",
    "    df_city.sort_index(inplace=True)\n",
    "\n",
    "    # Split data into training, validation, and testing sets\n",
    "    train[city] = df_city[df_city['Year'] <= 2009]  # Training data up to 2010\n",
    "    validate[city] = df_city[(df_city['Year'] > 2009) & (df_city['Year'] <= 2011)]  # Validation data (2011)\n",
    "    test[city] = df_city[(df_city['Year'] == 2012) ]  # Test data (2012)\n",
    "    \n",
    "    # You can also print some data samples to verify\n",
    "    #print(f\"Training set size: {train[city].shape}\")\n",
    "    #print(f\"Validation set size: {validate[city].shape}\")\n",
    "    #print(f\"Testing set size: {test[city].shape}\")\n"
   ]
  },
  {
   "cell_type": "code",
   "execution_count": 7,
   "metadata": {},
   "outputs": [
    {
     "name": "stdout",
     "output_type": "stream",
     "text": [
      "Training SARIMA for Aachen...\n"
     ]
    },
    {
     "name": "stderr",
     "output_type": "stream",
     "text": [
      "c:\\Users\\a0095989\\Desktop\\important\\Thesis\\Model_Thesis\\model\\Lib\\site-packages\\statsmodels\\tsa\\base\\tsa_model.py:473: ValueWarning: No frequency information was provided, so inferred frequency MS will be used.\n",
      "  self._init_dates(dates, freq)\n",
      "c:\\Users\\a0095989\\Desktop\\important\\Thesis\\Model_Thesis\\model\\Lib\\site-packages\\statsmodels\\tsa\\base\\tsa_model.py:473: ValueWarning: No frequency information was provided, so inferred frequency MS will be used.\n",
      "  self._init_dates(dates, freq)\n"
     ]
    },
    {
     "name": "stdout",
     "output_type": "stream",
     "text": [
      "Mean Absolute Error (MAE) for Aachen: 1.3590845908416143\n",
      "Coefficient of Determination (R²) for Aachen: 0.9252339154734149\n",
      "Training SARIMA for Augsburg...\n"
     ]
    },
    {
     "name": "stderr",
     "output_type": "stream",
     "text": [
      "c:\\Users\\a0095989\\Desktop\\important\\Thesis\\Model_Thesis\\model\\Lib\\site-packages\\statsmodels\\tsa\\base\\tsa_model.py:473: ValueWarning: No frequency information was provided, so inferred frequency MS will be used.\n",
      "  self._init_dates(dates, freq)\n",
      "c:\\Users\\a0095989\\Desktop\\important\\Thesis\\Model_Thesis\\model\\Lib\\site-packages\\statsmodels\\tsa\\base\\tsa_model.py:473: ValueWarning: No frequency information was provided, so inferred frequency MS will be used.\n",
      "  self._init_dates(dates, freq)\n"
     ]
    },
    {
     "name": "stdout",
     "output_type": "stream",
     "text": [
      "Mean Absolute Error (MAE) for Augsburg: 1.133552072268212\n",
      "Coefficient of Determination (R²) for Augsburg: 0.9399107256190923\n",
      "Training SARIMA for Bergisch Gladbach...\n"
     ]
    },
    {
     "name": "stderr",
     "output_type": "stream",
     "text": [
      "c:\\Users\\a0095989\\Desktop\\important\\Thesis\\Model_Thesis\\model\\Lib\\site-packages\\statsmodels\\tsa\\base\\tsa_model.py:473: ValueWarning: No frequency information was provided, so inferred frequency MS will be used.\n",
      "  self._init_dates(dates, freq)\n",
      "c:\\Users\\a0095989\\Desktop\\important\\Thesis\\Model_Thesis\\model\\Lib\\site-packages\\statsmodels\\tsa\\base\\tsa_model.py:473: ValueWarning: No frequency information was provided, so inferred frequency MS will be used.\n",
      "  self._init_dates(dates, freq)\n"
     ]
    },
    {
     "name": "stdout",
     "output_type": "stream",
     "text": [
      "Mean Absolute Error (MAE) for Bergisch Gladbach: 1.3590845908416143\n",
      "Coefficient of Determination (R²) for Bergisch Gladbach: 0.9252339154734149\n",
      "Training SARIMA for Berlin...\n"
     ]
    },
    {
     "name": "stderr",
     "output_type": "stream",
     "text": [
      "c:\\Users\\a0095989\\Desktop\\important\\Thesis\\Model_Thesis\\model\\Lib\\site-packages\\statsmodels\\tsa\\base\\tsa_model.py:473: ValueWarning: No frequency information was provided, so inferred frequency MS will be used.\n",
      "  self._init_dates(dates, freq)\n",
      "c:\\Users\\a0095989\\Desktop\\important\\Thesis\\Model_Thesis\\model\\Lib\\site-packages\\statsmodels\\tsa\\base\\tsa_model.py:473: ValueWarning: No frequency information was provided, so inferred frequency MS will be used.\n",
      "  self._init_dates(dates, freq)\n"
     ]
    },
    {
     "name": "stdout",
     "output_type": "stream",
     "text": [
      "Mean Absolute Error (MAE) for Berlin: 1.1668689160265133\n",
      "Coefficient of Determination (R²) for Berlin: 0.9491959095093339\n",
      "Training SARIMA for Bielefeld...\n"
     ]
    },
    {
     "name": "stderr",
     "output_type": "stream",
     "text": [
      "c:\\Users\\a0095989\\Desktop\\important\\Thesis\\Model_Thesis\\model\\Lib\\site-packages\\statsmodels\\tsa\\base\\tsa_model.py:473: ValueWarning: No frequency information was provided, so inferred frequency MS will be used.\n",
      "  self._init_dates(dates, freq)\n",
      "c:\\Users\\a0095989\\Desktop\\important\\Thesis\\Model_Thesis\\model\\Lib\\site-packages\\statsmodels\\tsa\\base\\tsa_model.py:473: ValueWarning: No frequency information was provided, so inferred frequency MS will be used.\n",
      "  self._init_dates(dates, freq)\n"
     ]
    },
    {
     "name": "stdout",
     "output_type": "stream",
     "text": [
      "Mean Absolute Error (MAE) for Bielefeld: 1.1937569936308268\n",
      "Coefficient of Determination (R²) for Bielefeld: 0.9389793135190547\n",
      "Training SARIMA for Bochum...\n"
     ]
    },
    {
     "name": "stderr",
     "output_type": "stream",
     "text": [
      "c:\\Users\\a0095989\\Desktop\\important\\Thesis\\Model_Thesis\\model\\Lib\\site-packages\\statsmodels\\tsa\\base\\tsa_model.py:473: ValueWarning: No frequency information was provided, so inferred frequency MS will be used.\n",
      "  self._init_dates(dates, freq)\n",
      "c:\\Users\\a0095989\\Desktop\\important\\Thesis\\Model_Thesis\\model\\Lib\\site-packages\\statsmodels\\tsa\\base\\tsa_model.py:473: ValueWarning: No frequency information was provided, so inferred frequency MS will be used.\n",
      "  self._init_dates(dates, freq)\n"
     ]
    },
    {
     "name": "stdout",
     "output_type": "stream",
     "text": [
      "Mean Absolute Error (MAE) for Bochum: 1.1937569936308268\n",
      "Coefficient of Determination (R²) for Bochum: 0.9389793135190547\n",
      "Training SARIMA for Bonn...\n"
     ]
    },
    {
     "name": "stderr",
     "output_type": "stream",
     "text": [
      "c:\\Users\\a0095989\\Desktop\\important\\Thesis\\Model_Thesis\\model\\Lib\\site-packages\\statsmodels\\tsa\\base\\tsa_model.py:473: ValueWarning: No frequency information was provided, so inferred frequency MS will be used.\n",
      "  self._init_dates(dates, freq)\n",
      "c:\\Users\\a0095989\\Desktop\\important\\Thesis\\Model_Thesis\\model\\Lib\\site-packages\\statsmodels\\tsa\\base\\tsa_model.py:473: ValueWarning: No frequency information was provided, so inferred frequency MS will be used.\n",
      "  self._init_dates(dates, freq)\n"
     ]
    },
    {
     "name": "stdout",
     "output_type": "stream",
     "text": [
      "Mean Absolute Error (MAE) for Bonn: 1.3590845908416143\n",
      "Coefficient of Determination (R²) for Bonn: 0.9252339154734149\n",
      "Training SARIMA for Bottrop...\n"
     ]
    },
    {
     "name": "stderr",
     "output_type": "stream",
     "text": [
      "c:\\Users\\a0095989\\Desktop\\important\\Thesis\\Model_Thesis\\model\\Lib\\site-packages\\statsmodels\\tsa\\base\\tsa_model.py:473: ValueWarning: No frequency information was provided, so inferred frequency MS will be used.\n",
      "  self._init_dates(dates, freq)\n",
      "c:\\Users\\a0095989\\Desktop\\important\\Thesis\\Model_Thesis\\model\\Lib\\site-packages\\statsmodels\\tsa\\base\\tsa_model.py:473: ValueWarning: No frequency information was provided, so inferred frequency MS will be used.\n",
      "  self._init_dates(dates, freq)\n"
     ]
    },
    {
     "name": "stdout",
     "output_type": "stream",
     "text": [
      "Mean Absolute Error (MAE) for Bottrop: 1.1937569936308268\n",
      "Coefficient of Determination (R²) for Bottrop: 0.9389793135190547\n",
      "Training SARIMA for Bremen...\n"
     ]
    },
    {
     "name": "stderr",
     "output_type": "stream",
     "text": [
      "c:\\Users\\a0095989\\Desktop\\important\\Thesis\\Model_Thesis\\model\\Lib\\site-packages\\statsmodels\\tsa\\base\\tsa_model.py:473: ValueWarning: No frequency information was provided, so inferred frequency MS will be used.\n",
      "  self._init_dates(dates, freq)\n",
      "c:\\Users\\a0095989\\Desktop\\important\\Thesis\\Model_Thesis\\model\\Lib\\site-packages\\statsmodels\\tsa\\base\\tsa_model.py:473: ValueWarning: No frequency information was provided, so inferred frequency MS will be used.\n",
      "  self._init_dates(dates, freq)\n"
     ]
    },
    {
     "name": "stdout",
     "output_type": "stream",
     "text": [
      "Mean Absolute Error (MAE) for Bremen: 1.120403994914142\n",
      "Coefficient of Determination (R²) for Bremen: 0.9519417458195713\n",
      "Training SARIMA for Bremerhaven...\n"
     ]
    },
    {
     "name": "stderr",
     "output_type": "stream",
     "text": [
      "c:\\Users\\a0095989\\Desktop\\important\\Thesis\\Model_Thesis\\model\\Lib\\site-packages\\statsmodels\\tsa\\base\\tsa_model.py:473: ValueWarning: No frequency information was provided, so inferred frequency MS will be used.\n",
      "  self._init_dates(dates, freq)\n",
      "c:\\Users\\a0095989\\Desktop\\important\\Thesis\\Model_Thesis\\model\\Lib\\site-packages\\statsmodels\\tsa\\base\\tsa_model.py:473: ValueWarning: No frequency information was provided, so inferred frequency MS will be used.\n",
      "  self._init_dates(dates, freq)\n"
     ]
    },
    {
     "name": "stdout",
     "output_type": "stream",
     "text": [
      "Mean Absolute Error (MAE) for Bremerhaven: 1.120403994914142\n",
      "Coefficient of Determination (R²) for Bremerhaven: 0.9519417458195713\n",
      "Training SARIMA for Brunswick...\n"
     ]
    },
    {
     "name": "stderr",
     "output_type": "stream",
     "text": [
      "c:\\Users\\a0095989\\Desktop\\important\\Thesis\\Model_Thesis\\model\\Lib\\site-packages\\statsmodels\\tsa\\base\\tsa_model.py:473: ValueWarning: No frequency information was provided, so inferred frequency MS will be used.\n",
      "  self._init_dates(dates, freq)\n",
      "c:\\Users\\a0095989\\Desktop\\important\\Thesis\\Model_Thesis\\model\\Lib\\site-packages\\statsmodels\\tsa\\base\\tsa_model.py:473: ValueWarning: No frequency information was provided, so inferred frequency MS will be used.\n",
      "  self._init_dates(dates, freq)\n"
     ]
    },
    {
     "name": "stdout",
     "output_type": "stream",
     "text": [
      "Mean Absolute Error (MAE) for Brunswick: 1.1723165988708242\n",
      "Coefficient of Determination (R²) for Brunswick: 0.9415995931472196\n",
      "Training SARIMA for Chemnitz...\n"
     ]
    },
    {
     "name": "stderr",
     "output_type": "stream",
     "text": [
      "c:\\Users\\a0095989\\Desktop\\important\\Thesis\\Model_Thesis\\model\\Lib\\site-packages\\statsmodels\\tsa\\base\\tsa_model.py:473: ValueWarning: No frequency information was provided, so inferred frequency MS will be used.\n",
      "  self._init_dates(dates, freq)\n",
      "c:\\Users\\a0095989\\Desktop\\important\\Thesis\\Model_Thesis\\model\\Lib\\site-packages\\statsmodels\\tsa\\base\\tsa_model.py:473: ValueWarning: No frequency information was provided, so inferred frequency MS will be used.\n",
      "  self._init_dates(dates, freq)\n"
     ]
    },
    {
     "name": "stdout",
     "output_type": "stream",
     "text": [
      "Mean Absolute Error (MAE) for Chemnitz: 1.2700477791911664\n",
      "Coefficient of Determination (R²) for Chemnitz: 0.9457338453782329\n",
      "Training SARIMA for Cologne...\n"
     ]
    },
    {
     "name": "stderr",
     "output_type": "stream",
     "text": [
      "c:\\Users\\a0095989\\Desktop\\important\\Thesis\\Model_Thesis\\model\\Lib\\site-packages\\statsmodels\\tsa\\base\\tsa_model.py:473: ValueWarning: No frequency information was provided, so inferred frequency MS will be used.\n",
      "  self._init_dates(dates, freq)\n",
      "c:\\Users\\a0095989\\Desktop\\important\\Thesis\\Model_Thesis\\model\\Lib\\site-packages\\statsmodels\\tsa\\base\\tsa_model.py:473: ValueWarning: No frequency information was provided, so inferred frequency MS will be used.\n",
      "  self._init_dates(dates, freq)\n"
     ]
    },
    {
     "name": "stdout",
     "output_type": "stream",
     "text": [
      "Mean Absolute Error (MAE) for Cologne: 1.3590845908416143\n",
      "Coefficient of Determination (R²) for Cologne: 0.9252339154734149\n",
      "Training SARIMA for Cottbus...\n"
     ]
    },
    {
     "name": "stderr",
     "output_type": "stream",
     "text": [
      "c:\\Users\\a0095989\\Desktop\\important\\Thesis\\Model_Thesis\\model\\Lib\\site-packages\\statsmodels\\tsa\\base\\tsa_model.py:473: ValueWarning: No frequency information was provided, so inferred frequency MS will be used.\n",
      "  self._init_dates(dates, freq)\n",
      "c:\\Users\\a0095989\\Desktop\\important\\Thesis\\Model_Thesis\\model\\Lib\\site-packages\\statsmodels\\tsa\\base\\tsa_model.py:473: ValueWarning: No frequency information was provided, so inferred frequency MS will be used.\n",
      "  self._init_dates(dates, freq)\n"
     ]
    },
    {
     "name": "stdout",
     "output_type": "stream",
     "text": [
      "Mean Absolute Error (MAE) for Cottbus: 1.1668689160265133\n",
      "Coefficient of Determination (R²) for Cottbus: 0.9491959095093339\n",
      "Training SARIMA for Düsseldorf...\n"
     ]
    },
    {
     "name": "stderr",
     "output_type": "stream",
     "text": [
      "c:\\Users\\a0095989\\Desktop\\important\\Thesis\\Model_Thesis\\model\\Lib\\site-packages\\statsmodels\\tsa\\base\\tsa_model.py:473: ValueWarning: No frequency information was provided, so inferred frequency MS will be used.\n",
      "  self._init_dates(dates, freq)\n",
      "c:\\Users\\a0095989\\Desktop\\important\\Thesis\\Model_Thesis\\model\\Lib\\site-packages\\statsmodels\\tsa\\base\\tsa_model.py:473: ValueWarning: No frequency information was provided, so inferred frequency MS will be used.\n",
      "  self._init_dates(dates, freq)\n"
     ]
    },
    {
     "name": "stdout",
     "output_type": "stream",
     "text": [
      "Mean Absolute Error (MAE) for Düsseldorf: 1.3590845908416143\n",
      "Coefficient of Determination (R²) for Düsseldorf: 0.9252339154734149\n",
      "Training SARIMA for Darmstadt...\n"
     ]
    },
    {
     "name": "stderr",
     "output_type": "stream",
     "text": [
      "c:\\Users\\a0095989\\Desktop\\important\\Thesis\\Model_Thesis\\model\\Lib\\site-packages\\statsmodels\\tsa\\base\\tsa_model.py:473: ValueWarning: No frequency information was provided, so inferred frequency MS will be used.\n",
      "  self._init_dates(dates, freq)\n",
      "c:\\Users\\a0095989\\Desktop\\important\\Thesis\\Model_Thesis\\model\\Lib\\site-packages\\statsmodels\\tsa\\base\\tsa_model.py:473: ValueWarning: No frequency information was provided, so inferred frequency MS will be used.\n",
      "  self._init_dates(dates, freq)\n"
     ]
    },
    {
     "name": "stdout",
     "output_type": "stream",
     "text": [
      "Mean Absolute Error (MAE) for Darmstadt: 1.321146344823689\n",
      "Coefficient of Determination (R²) for Darmstadt: 0.9389546737983254\n",
      "Training SARIMA for Dortmund...\n"
     ]
    },
    {
     "name": "stderr",
     "output_type": "stream",
     "text": [
      "c:\\Users\\a0095989\\Desktop\\important\\Thesis\\Model_Thesis\\model\\Lib\\site-packages\\statsmodels\\tsa\\base\\tsa_model.py:473: ValueWarning: No frequency information was provided, so inferred frequency MS will be used.\n",
      "  self._init_dates(dates, freq)\n",
      "c:\\Users\\a0095989\\Desktop\\important\\Thesis\\Model_Thesis\\model\\Lib\\site-packages\\statsmodels\\tsa\\base\\tsa_model.py:473: ValueWarning: No frequency information was provided, so inferred frequency MS will be used.\n",
      "  self._init_dates(dates, freq)\n"
     ]
    },
    {
     "name": "stdout",
     "output_type": "stream",
     "text": [
      "Mean Absolute Error (MAE) for Dortmund: 1.1937569936308268\n",
      "Coefficient of Determination (R²) for Dortmund: 0.9389793135190547\n",
      "Training SARIMA for Dresden...\n"
     ]
    },
    {
     "name": "stderr",
     "output_type": "stream",
     "text": [
      "c:\\Users\\a0095989\\Desktop\\important\\Thesis\\Model_Thesis\\model\\Lib\\site-packages\\statsmodels\\tsa\\base\\tsa_model.py:473: ValueWarning: No frequency information was provided, so inferred frequency MS will be used.\n",
      "  self._init_dates(dates, freq)\n",
      "c:\\Users\\a0095989\\Desktop\\important\\Thesis\\Model_Thesis\\model\\Lib\\site-packages\\statsmodels\\tsa\\base\\tsa_model.py:473: ValueWarning: No frequency information was provided, so inferred frequency MS will be used.\n",
      "  self._init_dates(dates, freq)\n"
     ]
    },
    {
     "name": "stdout",
     "output_type": "stream",
     "text": [
      "Mean Absolute Error (MAE) for Dresden: 1.2700477791911664\n",
      "Coefficient of Determination (R²) for Dresden: 0.9457338453782329\n",
      "Training SARIMA for Duisburg...\n"
     ]
    },
    {
     "name": "stderr",
     "output_type": "stream",
     "text": [
      "c:\\Users\\a0095989\\Desktop\\important\\Thesis\\Model_Thesis\\model\\Lib\\site-packages\\statsmodels\\tsa\\base\\tsa_model.py:473: ValueWarning: No frequency information was provided, so inferred frequency MS will be used.\n",
      "  self._init_dates(dates, freq)\n",
      "c:\\Users\\a0095989\\Desktop\\important\\Thesis\\Model_Thesis\\model\\Lib\\site-packages\\statsmodels\\tsa\\base\\tsa_model.py:473: ValueWarning: No frequency information was provided, so inferred frequency MS will be used.\n",
      "  self._init_dates(dates, freq)\n"
     ]
    },
    {
     "name": "stdout",
     "output_type": "stream",
     "text": [
      "Mean Absolute Error (MAE) for Duisburg: 1.3590845908416143\n",
      "Coefficient of Determination (R²) for Duisburg: 0.9252339154734149\n",
      "Training SARIMA for Erfurt...\n"
     ]
    },
    {
     "name": "stderr",
     "output_type": "stream",
     "text": [
      "c:\\Users\\a0095989\\Desktop\\important\\Thesis\\Model_Thesis\\model\\Lib\\site-packages\\statsmodels\\tsa\\base\\tsa_model.py:473: ValueWarning: No frequency information was provided, so inferred frequency MS will be used.\n",
      "  self._init_dates(dates, freq)\n",
      "c:\\Users\\a0095989\\Desktop\\important\\Thesis\\Model_Thesis\\model\\Lib\\site-packages\\statsmodels\\tsa\\base\\tsa_model.py:473: ValueWarning: No frequency information was provided, so inferred frequency MS will be used.\n",
      "  self._init_dates(dates, freq)\n"
     ]
    },
    {
     "name": "stdout",
     "output_type": "stream",
     "text": [
      "Mean Absolute Error (MAE) for Erfurt: 1.2329547568596368\n",
      "Coefficient of Determination (R²) for Erfurt: 0.9393428038806616\n",
      "Training SARIMA for Erlangen...\n"
     ]
    },
    {
     "name": "stderr",
     "output_type": "stream",
     "text": [
      "c:\\Users\\a0095989\\Desktop\\important\\Thesis\\Model_Thesis\\model\\Lib\\site-packages\\statsmodels\\tsa\\base\\tsa_model.py:473: ValueWarning: No frequency information was provided, so inferred frequency MS will be used.\n",
      "  self._init_dates(dates, freq)\n",
      "c:\\Users\\a0095989\\Desktop\\important\\Thesis\\Model_Thesis\\model\\Lib\\site-packages\\statsmodels\\tsa\\base\\tsa_model.py:473: ValueWarning: No frequency information was provided, so inferred frequency MS will be used.\n",
      "  self._init_dates(dates, freq)\n"
     ]
    },
    {
     "name": "stdout",
     "output_type": "stream",
     "text": [
      "Mean Absolute Error (MAE) for Erlangen: 1.2757124932691368\n",
      "Coefficient of Determination (R²) for Erlangen: 0.9387225837459935\n",
      "Training SARIMA for Essen...\n"
     ]
    },
    {
     "name": "stderr",
     "output_type": "stream",
     "text": [
      "c:\\Users\\a0095989\\Desktop\\important\\Thesis\\Model_Thesis\\model\\Lib\\site-packages\\statsmodels\\tsa\\base\\tsa_model.py:473: ValueWarning: No frequency information was provided, so inferred frequency MS will be used.\n",
      "  self._init_dates(dates, freq)\n",
      "c:\\Users\\a0095989\\Desktop\\important\\Thesis\\Model_Thesis\\model\\Lib\\site-packages\\statsmodels\\tsa\\base\\tsa_model.py:473: ValueWarning: No frequency information was provided, so inferred frequency MS will be used.\n",
      "  self._init_dates(dates, freq)\n"
     ]
    },
    {
     "name": "stdout",
     "output_type": "stream",
     "text": [
      "Mean Absolute Error (MAE) for Essen: 1.3590845908416143\n",
      "Coefficient of Determination (R²) for Essen: 0.9252339154734149\n",
      "Training SARIMA for Fürth...\n"
     ]
    },
    {
     "name": "stderr",
     "output_type": "stream",
     "text": [
      "c:\\Users\\a0095989\\Desktop\\important\\Thesis\\Model_Thesis\\model\\Lib\\site-packages\\statsmodels\\tsa\\base\\tsa_model.py:473: ValueWarning: No frequency information was provided, so inferred frequency MS will be used.\n",
      "  self._init_dates(dates, freq)\n",
      "c:\\Users\\a0095989\\Desktop\\important\\Thesis\\Model_Thesis\\model\\Lib\\site-packages\\statsmodels\\tsa\\base\\tsa_model.py:473: ValueWarning: No frequency information was provided, so inferred frequency MS will be used.\n",
      "  self._init_dates(dates, freq)\n"
     ]
    },
    {
     "name": "stdout",
     "output_type": "stream",
     "text": [
      "Mean Absolute Error (MAE) for Fürth: 1.2757124932691368\n",
      "Coefficient of Determination (R²) for Fürth: 0.9387225837459935\n",
      "Training SARIMA for Frankfurt...\n"
     ]
    },
    {
     "name": "stderr",
     "output_type": "stream",
     "text": [
      "c:\\Users\\a0095989\\Desktop\\important\\Thesis\\Model_Thesis\\model\\Lib\\site-packages\\statsmodels\\tsa\\base\\tsa_model.py:473: ValueWarning: No frequency information was provided, so inferred frequency MS will be used.\n",
      "  self._init_dates(dates, freq)\n",
      "c:\\Users\\a0095989\\Desktop\\important\\Thesis\\Model_Thesis\\model\\Lib\\site-packages\\statsmodels\\tsa\\base\\tsa_model.py:473: ValueWarning: No frequency information was provided, so inferred frequency MS will be used.\n",
      "  self._init_dates(dates, freq)\n"
     ]
    },
    {
     "name": "stdout",
     "output_type": "stream",
     "text": [
      "Mean Absolute Error (MAE) for Frankfurt: 1.321146344823689\n",
      "Coefficient of Determination (R²) for Frankfurt: 0.9389546737983254\n",
      "Training SARIMA for Freiburg...\n"
     ]
    },
    {
     "name": "stderr",
     "output_type": "stream",
     "text": [
      "c:\\Users\\a0095989\\Desktop\\important\\Thesis\\Model_Thesis\\model\\Lib\\site-packages\\statsmodels\\tsa\\base\\tsa_model.py:473: ValueWarning: No frequency information was provided, so inferred frequency MS will be used.\n",
      "  self._init_dates(dates, freq)\n",
      "c:\\Users\\a0095989\\Desktop\\important\\Thesis\\Model_Thesis\\model\\Lib\\site-packages\\statsmodels\\tsa\\base\\tsa_model.py:473: ValueWarning: No frequency information was provided, so inferred frequency MS will be used.\n",
      "  self._init_dates(dates, freq)\n"
     ]
    },
    {
     "name": "stdout",
     "output_type": "stream",
     "text": [
      "Mean Absolute Error (MAE) for Freiburg: 1.184502759200312\n",
      "Coefficient of Determination (R²) for Freiburg: 0.9289325329987984\n",
      "Training SARIMA for Göttingen...\n"
     ]
    },
    {
     "name": "stderr",
     "output_type": "stream",
     "text": [
      "c:\\Users\\a0095989\\Desktop\\important\\Thesis\\Model_Thesis\\model\\Lib\\site-packages\\statsmodels\\tsa\\base\\tsa_model.py:473: ValueWarning: No frequency information was provided, so inferred frequency MS will be used.\n",
      "  self._init_dates(dates, freq)\n",
      "c:\\Users\\a0095989\\Desktop\\important\\Thesis\\Model_Thesis\\model\\Lib\\site-packages\\statsmodels\\tsa\\base\\tsa_model.py:473: ValueWarning: No frequency information was provided, so inferred frequency MS will be used.\n",
      "  self._init_dates(dates, freq)\n"
     ]
    },
    {
     "name": "stdout",
     "output_type": "stream",
     "text": [
      "Mean Absolute Error (MAE) for Göttingen: 1.1723165988708242\n",
      "Coefficient of Determination (R²) for Göttingen: 0.9415995931472196\n",
      "Training SARIMA for Gelsenkirchen...\n"
     ]
    },
    {
     "name": "stderr",
     "output_type": "stream",
     "text": [
      "c:\\Users\\a0095989\\Desktop\\important\\Thesis\\Model_Thesis\\model\\Lib\\site-packages\\statsmodels\\tsa\\base\\tsa_model.py:473: ValueWarning: No frequency information was provided, so inferred frequency MS will be used.\n",
      "  self._init_dates(dates, freq)\n",
      "c:\\Users\\a0095989\\Desktop\\important\\Thesis\\Model_Thesis\\model\\Lib\\site-packages\\statsmodels\\tsa\\base\\tsa_model.py:473: ValueWarning: No frequency information was provided, so inferred frequency MS will be used.\n",
      "  self._init_dates(dates, freq)\n"
     ]
    },
    {
     "name": "stdout",
     "output_type": "stream",
     "text": [
      "Mean Absolute Error (MAE) for Gelsenkirchen: 1.1937569936308268\n",
      "Coefficient of Determination (R²) for Gelsenkirchen: 0.9389793135190547\n",
      "Training SARIMA for Gera...\n"
     ]
    },
    {
     "name": "stderr",
     "output_type": "stream",
     "text": [
      "c:\\Users\\a0095989\\Desktop\\important\\Thesis\\Model_Thesis\\model\\Lib\\site-packages\\statsmodels\\tsa\\base\\tsa_model.py:473: ValueWarning: No frequency information was provided, so inferred frequency MS will be used.\n",
      "  self._init_dates(dates, freq)\n",
      "c:\\Users\\a0095989\\Desktop\\important\\Thesis\\Model_Thesis\\model\\Lib\\site-packages\\statsmodels\\tsa\\base\\tsa_model.py:473: ValueWarning: No frequency information was provided, so inferred frequency MS will be used.\n",
      "  self._init_dates(dates, freq)\n"
     ]
    },
    {
     "name": "stdout",
     "output_type": "stream",
     "text": [
      "Mean Absolute Error (MAE) for Gera: 1.2329547568596368\n",
      "Coefficient of Determination (R²) for Gera: 0.9393428038806616\n",
      "Training SARIMA for Hagen...\n"
     ]
    },
    {
     "name": "stderr",
     "output_type": "stream",
     "text": [
      "c:\\Users\\a0095989\\Desktop\\important\\Thesis\\Model_Thesis\\model\\Lib\\site-packages\\statsmodels\\tsa\\base\\tsa_model.py:473: ValueWarning: No frequency information was provided, so inferred frequency MS will be used.\n",
      "  self._init_dates(dates, freq)\n",
      "c:\\Users\\a0095989\\Desktop\\important\\Thesis\\Model_Thesis\\model\\Lib\\site-packages\\statsmodels\\tsa\\base\\tsa_model.py:473: ValueWarning: No frequency information was provided, so inferred frequency MS will be used.\n",
      "  self._init_dates(dates, freq)\n"
     ]
    },
    {
     "name": "stdout",
     "output_type": "stream",
     "text": [
      "Mean Absolute Error (MAE) for Hagen: 1.1937569936308268\n",
      "Coefficient of Determination (R²) for Hagen: 0.9389793135190547\n",
      "Training SARIMA for Halle...\n"
     ]
    },
    {
     "name": "stderr",
     "output_type": "stream",
     "text": [
      "c:\\Users\\a0095989\\Desktop\\important\\Thesis\\Model_Thesis\\model\\Lib\\site-packages\\statsmodels\\tsa\\base\\tsa_model.py:473: ValueWarning: No frequency information was provided, so inferred frequency MS will be used.\n",
      "  self._init_dates(dates, freq)\n",
      "c:\\Users\\a0095989\\Desktop\\important\\Thesis\\Model_Thesis\\model\\Lib\\site-packages\\statsmodels\\tsa\\base\\tsa_model.py:473: ValueWarning: No frequency information was provided, so inferred frequency MS will be used.\n",
      "  self._init_dates(dates, freq)\n"
     ]
    },
    {
     "name": "stdout",
     "output_type": "stream",
     "text": [
      "Mean Absolute Error (MAE) for Halle: 1.2329547568596368\n",
      "Coefficient of Determination (R²) for Halle: 0.9393428038806616\n",
      "Training SARIMA for Hamburg...\n"
     ]
    },
    {
     "name": "stderr",
     "output_type": "stream",
     "text": [
      "c:\\Users\\a0095989\\Desktop\\important\\Thesis\\Model_Thesis\\model\\Lib\\site-packages\\statsmodels\\tsa\\base\\tsa_model.py:473: ValueWarning: No frequency information was provided, so inferred frequency MS will be used.\n",
      "  self._init_dates(dates, freq)\n",
      "c:\\Users\\a0095989\\Desktop\\important\\Thesis\\Model_Thesis\\model\\Lib\\site-packages\\statsmodels\\tsa\\base\\tsa_model.py:473: ValueWarning: No frequency information was provided, so inferred frequency MS will be used.\n",
      "  self._init_dates(dates, freq)\n"
     ]
    },
    {
     "name": "stdout",
     "output_type": "stream",
     "text": [
      "Mean Absolute Error (MAE) for Hamburg: 1.120403994914142\n",
      "Coefficient of Determination (R²) for Hamburg: 0.9519417458195713\n",
      "Training SARIMA for Hamm...\n"
     ]
    },
    {
     "name": "stderr",
     "output_type": "stream",
     "text": [
      "c:\\Users\\a0095989\\Desktop\\important\\Thesis\\Model_Thesis\\model\\Lib\\site-packages\\statsmodels\\tsa\\base\\tsa_model.py:473: ValueWarning: No frequency information was provided, so inferred frequency MS will be used.\n",
      "  self._init_dates(dates, freq)\n",
      "c:\\Users\\a0095989\\Desktop\\important\\Thesis\\Model_Thesis\\model\\Lib\\site-packages\\statsmodels\\tsa\\base\\tsa_model.py:473: ValueWarning: No frequency information was provided, so inferred frequency MS will be used.\n",
      "  self._init_dates(dates, freq)\n"
     ]
    },
    {
     "name": "stdout",
     "output_type": "stream",
     "text": [
      "Mean Absolute Error (MAE) for Hamm: 1.1937569936308268\n",
      "Coefficient of Determination (R²) for Hamm: 0.9389793135190547\n",
      "Training SARIMA for Hanover...\n"
     ]
    },
    {
     "name": "stderr",
     "output_type": "stream",
     "text": [
      "c:\\Users\\a0095989\\Desktop\\important\\Thesis\\Model_Thesis\\model\\Lib\\site-packages\\statsmodels\\tsa\\base\\tsa_model.py:473: ValueWarning: No frequency information was provided, so inferred frequency MS will be used.\n",
      "  self._init_dates(dates, freq)\n",
      "c:\\Users\\a0095989\\Desktop\\important\\Thesis\\Model_Thesis\\model\\Lib\\site-packages\\statsmodels\\tsa\\base\\tsa_model.py:473: ValueWarning: No frequency information was provided, so inferred frequency MS will be used.\n",
      "  self._init_dates(dates, freq)\n"
     ]
    },
    {
     "name": "stdout",
     "output_type": "stream",
     "text": [
      "Mean Absolute Error (MAE) for Hanover: 1.1723165988708242\n",
      "Coefficient of Determination (R²) for Hanover: 0.9415995931472196\n",
      "Training SARIMA for Heidelberg...\n"
     ]
    },
    {
     "name": "stderr",
     "output_type": "stream",
     "text": [
      "c:\\Users\\a0095989\\Desktop\\important\\Thesis\\Model_Thesis\\model\\Lib\\site-packages\\statsmodels\\tsa\\base\\tsa_model.py:473: ValueWarning: No frequency information was provided, so inferred frequency MS will be used.\n",
      "  self._init_dates(dates, freq)\n",
      "c:\\Users\\a0095989\\Desktop\\important\\Thesis\\Model_Thesis\\model\\Lib\\site-packages\\statsmodels\\tsa\\base\\tsa_model.py:473: ValueWarning: No frequency information was provided, so inferred frequency MS will be used.\n",
      "  self._init_dates(dates, freq)\n"
     ]
    },
    {
     "name": "stdout",
     "output_type": "stream",
     "text": [
      "Mean Absolute Error (MAE) for Heidelberg: 1.2757124932691368\n",
      "Coefficient of Determination (R²) for Heidelberg: 0.9387225837459935\n",
      "Training SARIMA for Heilbronn...\n"
     ]
    },
    {
     "name": "stderr",
     "output_type": "stream",
     "text": [
      "c:\\Users\\a0095989\\Desktop\\important\\Thesis\\Model_Thesis\\model\\Lib\\site-packages\\statsmodels\\tsa\\base\\tsa_model.py:473: ValueWarning: No frequency information was provided, so inferred frequency MS will be used.\n",
      "  self._init_dates(dates, freq)\n",
      "c:\\Users\\a0095989\\Desktop\\important\\Thesis\\Model_Thesis\\model\\Lib\\site-packages\\statsmodels\\tsa\\base\\tsa_model.py:473: ValueWarning: No frequency information was provided, so inferred frequency MS will be used.\n",
      "  self._init_dates(dates, freq)\n"
     ]
    },
    {
     "name": "stdout",
     "output_type": "stream",
     "text": [
      "Mean Absolute Error (MAE) for Heilbronn: 1.2757124932691368\n",
      "Coefficient of Determination (R²) for Heilbronn: 0.9387225837459935\n",
      "Training SARIMA for Herne...\n"
     ]
    },
    {
     "name": "stderr",
     "output_type": "stream",
     "text": [
      "c:\\Users\\a0095989\\Desktop\\important\\Thesis\\Model_Thesis\\model\\Lib\\site-packages\\statsmodels\\tsa\\base\\tsa_model.py:473: ValueWarning: No frequency information was provided, so inferred frequency MS will be used.\n",
      "  self._init_dates(dates, freq)\n",
      "c:\\Users\\a0095989\\Desktop\\important\\Thesis\\Model_Thesis\\model\\Lib\\site-packages\\statsmodels\\tsa\\base\\tsa_model.py:473: ValueWarning: No frequency information was provided, so inferred frequency MS will be used.\n",
      "  self._init_dates(dates, freq)\n"
     ]
    },
    {
     "name": "stdout",
     "output_type": "stream",
     "text": [
      "Mean Absolute Error (MAE) for Herne: 1.1937569936308268\n",
      "Coefficient of Determination (R²) for Herne: 0.9389793135190547\n",
      "Training SARIMA for Hildesheim...\n"
     ]
    },
    {
     "name": "stderr",
     "output_type": "stream",
     "text": [
      "c:\\Users\\a0095989\\Desktop\\important\\Thesis\\Model_Thesis\\model\\Lib\\site-packages\\statsmodels\\tsa\\base\\tsa_model.py:473: ValueWarning: No frequency information was provided, so inferred frequency MS will be used.\n",
      "  self._init_dates(dates, freq)\n",
      "c:\\Users\\a0095989\\Desktop\\important\\Thesis\\Model_Thesis\\model\\Lib\\site-packages\\statsmodels\\tsa\\base\\tsa_model.py:473: ValueWarning: No frequency information was provided, so inferred frequency MS will be used.\n",
      "  self._init_dates(dates, freq)\n"
     ]
    },
    {
     "name": "stdout",
     "output_type": "stream",
     "text": [
      "Mean Absolute Error (MAE) for Hildesheim: 1.1723165988708242\n",
      "Coefficient of Determination (R²) for Hildesheim: 0.9415995931472196\n",
      "Training SARIMA for Ingolstadt...\n"
     ]
    },
    {
     "name": "stderr",
     "output_type": "stream",
     "text": [
      "c:\\Users\\a0095989\\Desktop\\important\\Thesis\\Model_Thesis\\model\\Lib\\site-packages\\statsmodels\\tsa\\base\\tsa_model.py:473: ValueWarning: No frequency information was provided, so inferred frequency MS will be used.\n",
      "  self._init_dates(dates, freq)\n",
      "c:\\Users\\a0095989\\Desktop\\important\\Thesis\\Model_Thesis\\model\\Lib\\site-packages\\statsmodels\\tsa\\base\\tsa_model.py:473: ValueWarning: No frequency information was provided, so inferred frequency MS will be used.\n",
      "  self._init_dates(dates, freq)\n"
     ]
    },
    {
     "name": "stdout",
     "output_type": "stream",
     "text": [
      "Mean Absolute Error (MAE) for Ingolstadt: 1.1715992377004716\n",
      "Coefficient of Determination (R²) for Ingolstadt: 0.946892402690316\n",
      "Training SARIMA for Karlsruhe...\n"
     ]
    },
    {
     "name": "stderr",
     "output_type": "stream",
     "text": [
      "c:\\Users\\a0095989\\Desktop\\important\\Thesis\\Model_Thesis\\model\\Lib\\site-packages\\statsmodels\\tsa\\base\\tsa_model.py:473: ValueWarning: No frequency information was provided, so inferred frequency MS will be used.\n",
      "  self._init_dates(dates, freq)\n",
      "c:\\Users\\a0095989\\Desktop\\important\\Thesis\\Model_Thesis\\model\\Lib\\site-packages\\statsmodels\\tsa\\base\\tsa_model.py:473: ValueWarning: No frequency information was provided, so inferred frequency MS will be used.\n",
      "  self._init_dates(dates, freq)\n"
     ]
    },
    {
     "name": "stdout",
     "output_type": "stream",
     "text": [
      "Mean Absolute Error (MAE) for Karlsruhe: 1.3530054211988194\n",
      "Coefficient of Determination (R²) for Karlsruhe: 0.9293580043045965\n",
      "Training SARIMA for Kassel...\n"
     ]
    },
    {
     "name": "stderr",
     "output_type": "stream",
     "text": [
      "c:\\Users\\a0095989\\Desktop\\important\\Thesis\\Model_Thesis\\model\\Lib\\site-packages\\statsmodels\\tsa\\base\\tsa_model.py:473: ValueWarning: No frequency information was provided, so inferred frequency MS will be used.\n",
      "  self._init_dates(dates, freq)\n",
      "c:\\Users\\a0095989\\Desktop\\important\\Thesis\\Model_Thesis\\model\\Lib\\site-packages\\statsmodels\\tsa\\base\\tsa_model.py:473: ValueWarning: No frequency information was provided, so inferred frequency MS will be used.\n",
      "  self._init_dates(dates, freq)\n"
     ]
    },
    {
     "name": "stdout",
     "output_type": "stream",
     "text": [
      "Mean Absolute Error (MAE) for Kassel: 1.321146344823689\n",
      "Coefficient of Determination (R²) for Kassel: 0.9389546737983254\n",
      "Training SARIMA for Kiel...\n"
     ]
    },
    {
     "name": "stderr",
     "output_type": "stream",
     "text": [
      "c:\\Users\\a0095989\\Desktop\\important\\Thesis\\Model_Thesis\\model\\Lib\\site-packages\\statsmodels\\tsa\\base\\tsa_model.py:473: ValueWarning: No frequency information was provided, so inferred frequency MS will be used.\n",
      "  self._init_dates(dates, freq)\n",
      "c:\\Users\\a0095989\\Desktop\\important\\Thesis\\Model_Thesis\\model\\Lib\\site-packages\\statsmodels\\tsa\\base\\tsa_model.py:473: ValueWarning: No frequency information was provided, so inferred frequency MS will be used.\n",
      "  self._init_dates(dates, freq)\n"
     ]
    },
    {
     "name": "stdout",
     "output_type": "stream",
     "text": [
      "Mean Absolute Error (MAE) for Kiel: 1.120403994914142\n",
      "Coefficient of Determination (R²) for Kiel: 0.9519417458195713\n",
      "Training SARIMA for Koblenz...\n"
     ]
    },
    {
     "name": "stderr",
     "output_type": "stream",
     "text": [
      "c:\\Users\\a0095989\\Desktop\\important\\Thesis\\Model_Thesis\\model\\Lib\\site-packages\\statsmodels\\tsa\\base\\tsa_model.py:473: ValueWarning: No frequency information was provided, so inferred frequency MS will be used.\n",
      "  self._init_dates(dates, freq)\n",
      "c:\\Users\\a0095989\\Desktop\\important\\Thesis\\Model_Thesis\\model\\Lib\\site-packages\\statsmodels\\tsa\\base\\tsa_model.py:473: ValueWarning: No frequency information was provided, so inferred frequency MS will be used.\n",
      "  self._init_dates(dates, freq)\n"
     ]
    },
    {
     "name": "stdout",
     "output_type": "stream",
     "text": [
      "Mean Absolute Error (MAE) for Koblenz: 1.3590845908416143\n",
      "Coefficient of Determination (R²) for Koblenz: 0.9252339154734149\n",
      "Training SARIMA for Krefeld...\n"
     ]
    },
    {
     "name": "stderr",
     "output_type": "stream",
     "text": [
      "c:\\Users\\a0095989\\Desktop\\important\\Thesis\\Model_Thesis\\model\\Lib\\site-packages\\statsmodels\\tsa\\base\\tsa_model.py:473: ValueWarning: No frequency information was provided, so inferred frequency MS will be used.\n",
      "  self._init_dates(dates, freq)\n",
      "c:\\Users\\a0095989\\Desktop\\important\\Thesis\\Model_Thesis\\model\\Lib\\site-packages\\statsmodels\\tsa\\base\\tsa_model.py:473: ValueWarning: No frequency information was provided, so inferred frequency MS will be used.\n",
      "  self._init_dates(dates, freq)\n"
     ]
    },
    {
     "name": "stdout",
     "output_type": "stream",
     "text": [
      "Mean Absolute Error (MAE) for Krefeld: 1.3590845908416143\n",
      "Coefficient of Determination (R²) for Krefeld: 0.9252339154734149\n",
      "Training SARIMA for Lübeck...\n"
     ]
    },
    {
     "name": "stderr",
     "output_type": "stream",
     "text": [
      "c:\\Users\\a0095989\\Desktop\\important\\Thesis\\Model_Thesis\\model\\Lib\\site-packages\\statsmodels\\tsa\\base\\tsa_model.py:473: ValueWarning: No frequency information was provided, so inferred frequency MS will be used.\n",
      "  self._init_dates(dates, freq)\n",
      "c:\\Users\\a0095989\\Desktop\\important\\Thesis\\Model_Thesis\\model\\Lib\\site-packages\\statsmodels\\tsa\\base\\tsa_model.py:473: ValueWarning: No frequency information was provided, so inferred frequency MS will be used.\n",
      "  self._init_dates(dates, freq)\n"
     ]
    },
    {
     "name": "stdout",
     "output_type": "stream",
     "text": [
      "Mean Absolute Error (MAE) for Lübeck: 1.120403994914142\n",
      "Coefficient of Determination (R²) for Lübeck: 0.9519417458195713\n",
      "Training SARIMA for Leipzig...\n"
     ]
    },
    {
     "name": "stderr",
     "output_type": "stream",
     "text": [
      "c:\\Users\\a0095989\\Desktop\\important\\Thesis\\Model_Thesis\\model\\Lib\\site-packages\\statsmodels\\tsa\\base\\tsa_model.py:473: ValueWarning: No frequency information was provided, so inferred frequency MS will be used.\n",
      "  self._init_dates(dates, freq)\n",
      "c:\\Users\\a0095989\\Desktop\\important\\Thesis\\Model_Thesis\\model\\Lib\\site-packages\\statsmodels\\tsa\\base\\tsa_model.py:473: ValueWarning: No frequency information was provided, so inferred frequency MS will be used.\n",
      "  self._init_dates(dates, freq)\n"
     ]
    },
    {
     "name": "stdout",
     "output_type": "stream",
     "text": [
      "Mean Absolute Error (MAE) for Leipzig: 1.2329547568596368\n",
      "Coefficient of Determination (R²) for Leipzig: 0.9393428038806616\n",
      "Training SARIMA for Leverkusen...\n"
     ]
    },
    {
     "name": "stderr",
     "output_type": "stream",
     "text": [
      "c:\\Users\\a0095989\\Desktop\\important\\Thesis\\Model_Thesis\\model\\Lib\\site-packages\\statsmodels\\tsa\\base\\tsa_model.py:473: ValueWarning: No frequency information was provided, so inferred frequency MS will be used.\n",
      "  self._init_dates(dates, freq)\n",
      "c:\\Users\\a0095989\\Desktop\\important\\Thesis\\Model_Thesis\\model\\Lib\\site-packages\\statsmodels\\tsa\\base\\tsa_model.py:473: ValueWarning: No frequency information was provided, so inferred frequency MS will be used.\n",
      "  self._init_dates(dates, freq)\n"
     ]
    },
    {
     "name": "stdout",
     "output_type": "stream",
     "text": [
      "Mean Absolute Error (MAE) for Leverkusen: 1.3590845908416143\n",
      "Coefficient of Determination (R²) for Leverkusen: 0.9252339154734149\n",
      "Training SARIMA for Ludwigshafen...\n"
     ]
    },
    {
     "name": "stderr",
     "output_type": "stream",
     "text": [
      "c:\\Users\\a0095989\\Desktop\\important\\Thesis\\Model_Thesis\\model\\Lib\\site-packages\\statsmodels\\tsa\\base\\tsa_model.py:473: ValueWarning: No frequency information was provided, so inferred frequency MS will be used.\n",
      "  self._init_dates(dates, freq)\n",
      "c:\\Users\\a0095989\\Desktop\\important\\Thesis\\Model_Thesis\\model\\Lib\\site-packages\\statsmodels\\tsa\\base\\tsa_model.py:473: ValueWarning: No frequency information was provided, so inferred frequency MS will be used.\n",
      "  self._init_dates(dates, freq)\n"
     ]
    },
    {
     "name": "stdout",
     "output_type": "stream",
     "text": [
      "Mean Absolute Error (MAE) for Ludwigshafen: 1.3530054211988194\n",
      "Coefficient of Determination (R²) for Ludwigshafen: 0.9293580043045965\n",
      "Training SARIMA for Mönchengladbach...\n"
     ]
    },
    {
     "name": "stderr",
     "output_type": "stream",
     "text": [
      "c:\\Users\\a0095989\\Desktop\\important\\Thesis\\Model_Thesis\\model\\Lib\\site-packages\\statsmodels\\tsa\\base\\tsa_model.py:473: ValueWarning: No frequency information was provided, so inferred frequency MS will be used.\n",
      "  self._init_dates(dates, freq)\n",
      "c:\\Users\\a0095989\\Desktop\\important\\Thesis\\Model_Thesis\\model\\Lib\\site-packages\\statsmodels\\tsa\\base\\tsa_model.py:473: ValueWarning: No frequency information was provided, so inferred frequency MS will be used.\n",
      "  self._init_dates(dates, freq)\n"
     ]
    },
    {
     "name": "stdout",
     "output_type": "stream",
     "text": [
      "Mean Absolute Error (MAE) for Mönchengladbach: 1.3590845908416143\n",
      "Coefficient of Determination (R²) for Mönchengladbach: 0.9252339154734149\n",
      "Training SARIMA for Mülheim...\n"
     ]
    },
    {
     "name": "stderr",
     "output_type": "stream",
     "text": [
      "c:\\Users\\a0095989\\Desktop\\important\\Thesis\\Model_Thesis\\model\\Lib\\site-packages\\statsmodels\\tsa\\base\\tsa_model.py:473: ValueWarning: No frequency information was provided, so inferred frequency MS will be used.\n",
      "  self._init_dates(dates, freq)\n",
      "c:\\Users\\a0095989\\Desktop\\important\\Thesis\\Model_Thesis\\model\\Lib\\site-packages\\statsmodels\\tsa\\base\\tsa_model.py:473: ValueWarning: No frequency information was provided, so inferred frequency MS will be used.\n",
      "  self._init_dates(dates, freq)\n"
     ]
    },
    {
     "name": "stdout",
     "output_type": "stream",
     "text": [
      "Mean Absolute Error (MAE) for Mülheim: 1.3590845908416143\n",
      "Coefficient of Determination (R²) for Mülheim: 0.9252339154734149\n",
      "Training SARIMA for Münster...\n"
     ]
    },
    {
     "name": "stderr",
     "output_type": "stream",
     "text": [
      "c:\\Users\\a0095989\\Desktop\\important\\Thesis\\Model_Thesis\\model\\Lib\\site-packages\\statsmodels\\tsa\\base\\tsa_model.py:473: ValueWarning: No frequency information was provided, so inferred frequency MS will be used.\n",
      "  self._init_dates(dates, freq)\n",
      "c:\\Users\\a0095989\\Desktop\\important\\Thesis\\Model_Thesis\\model\\Lib\\site-packages\\statsmodels\\tsa\\base\\tsa_model.py:473: ValueWarning: No frequency information was provided, so inferred frequency MS will be used.\n",
      "  self._init_dates(dates, freq)\n"
     ]
    },
    {
     "name": "stdout",
     "output_type": "stream",
     "text": [
      "Mean Absolute Error (MAE) for Münster: 1.1937569936308268\n",
      "Coefficient of Determination (R²) for Münster: 0.9389793135190547\n",
      "Training SARIMA for Magdeburg...\n"
     ]
    },
    {
     "name": "stderr",
     "output_type": "stream",
     "text": [
      "c:\\Users\\a0095989\\Desktop\\important\\Thesis\\Model_Thesis\\model\\Lib\\site-packages\\statsmodels\\tsa\\base\\tsa_model.py:473: ValueWarning: No frequency information was provided, so inferred frequency MS will be used.\n",
      "  self._init_dates(dates, freq)\n",
      "c:\\Users\\a0095989\\Desktop\\important\\Thesis\\Model_Thesis\\model\\Lib\\site-packages\\statsmodels\\tsa\\base\\tsa_model.py:473: ValueWarning: No frequency information was provided, so inferred frequency MS will be used.\n",
      "  self._init_dates(dates, freq)\n"
     ]
    },
    {
     "name": "stdout",
     "output_type": "stream",
     "text": [
      "Mean Absolute Error (MAE) for Magdeburg: 1.1723165988708242\n",
      "Coefficient of Determination (R²) for Magdeburg: 0.9415995931472196\n",
      "Training SARIMA for Mainz...\n"
     ]
    },
    {
     "name": "stderr",
     "output_type": "stream",
     "text": [
      "c:\\Users\\a0095989\\Desktop\\important\\Thesis\\Model_Thesis\\model\\Lib\\site-packages\\statsmodels\\tsa\\base\\tsa_model.py:473: ValueWarning: No frequency information was provided, so inferred frequency MS will be used.\n",
      "  self._init_dates(dates, freq)\n",
      "c:\\Users\\a0095989\\Desktop\\important\\Thesis\\Model_Thesis\\model\\Lib\\site-packages\\statsmodels\\tsa\\base\\tsa_model.py:473: ValueWarning: No frequency information was provided, so inferred frequency MS will be used.\n",
      "  self._init_dates(dates, freq)\n"
     ]
    },
    {
     "name": "stdout",
     "output_type": "stream",
     "text": [
      "Mean Absolute Error (MAE) for Mainz: 1.321146344823689\n",
      "Coefficient of Determination (R²) for Mainz: 0.9389546737983254\n",
      "Training SARIMA for Mannheim...\n"
     ]
    },
    {
     "name": "stderr",
     "output_type": "stream",
     "text": [
      "c:\\Users\\a0095989\\Desktop\\important\\Thesis\\Model_Thesis\\model\\Lib\\site-packages\\statsmodels\\tsa\\base\\tsa_model.py:473: ValueWarning: No frequency information was provided, so inferred frequency MS will be used.\n",
      "  self._init_dates(dates, freq)\n",
      "c:\\Users\\a0095989\\Desktop\\important\\Thesis\\Model_Thesis\\model\\Lib\\site-packages\\statsmodels\\tsa\\base\\tsa_model.py:473: ValueWarning: No frequency information was provided, so inferred frequency MS will be used.\n",
      "  self._init_dates(dates, freq)\n"
     ]
    },
    {
     "name": "stdout",
     "output_type": "stream",
     "text": [
      "Mean Absolute Error (MAE) for Mannheim: 1.3530054211988194\n",
      "Coefficient of Determination (R²) for Mannheim: 0.9293580043045965\n",
      "Training SARIMA for Moers...\n"
     ]
    },
    {
     "name": "stderr",
     "output_type": "stream",
     "text": [
      "c:\\Users\\a0095989\\Desktop\\important\\Thesis\\Model_Thesis\\model\\Lib\\site-packages\\statsmodels\\tsa\\base\\tsa_model.py:473: ValueWarning: No frequency information was provided, so inferred frequency MS will be used.\n",
      "  self._init_dates(dates, freq)\n",
      "c:\\Users\\a0095989\\Desktop\\important\\Thesis\\Model_Thesis\\model\\Lib\\site-packages\\statsmodels\\tsa\\base\\tsa_model.py:473: ValueWarning: No frequency information was provided, so inferred frequency MS will be used.\n",
      "  self._init_dates(dates, freq)\n"
     ]
    },
    {
     "name": "stdout",
     "output_type": "stream",
     "text": [
      "Mean Absolute Error (MAE) for Moers: 1.3590845908416143\n",
      "Coefficient of Determination (R²) for Moers: 0.9252339154734149\n",
      "Training SARIMA for Munich...\n"
     ]
    },
    {
     "name": "stderr",
     "output_type": "stream",
     "text": [
      "c:\\Users\\a0095989\\Desktop\\important\\Thesis\\Model_Thesis\\model\\Lib\\site-packages\\statsmodels\\tsa\\base\\tsa_model.py:473: ValueWarning: No frequency information was provided, so inferred frequency MS will be used.\n",
      "  self._init_dates(dates, freq)\n",
      "c:\\Users\\a0095989\\Desktop\\important\\Thesis\\Model_Thesis\\model\\Lib\\site-packages\\statsmodels\\tsa\\base\\tsa_model.py:473: ValueWarning: No frequency information was provided, so inferred frequency MS will be used.\n",
      "  self._init_dates(dates, freq)\n"
     ]
    },
    {
     "name": "stdout",
     "output_type": "stream",
     "text": [
      "Mean Absolute Error (MAE) for Munich: 1.133552072268212\n",
      "Coefficient of Determination (R²) for Munich: 0.9399107256190923\n",
      "Training SARIMA for Neuss...\n"
     ]
    },
    {
     "name": "stderr",
     "output_type": "stream",
     "text": [
      "c:\\Users\\a0095989\\Desktop\\important\\Thesis\\Model_Thesis\\model\\Lib\\site-packages\\statsmodels\\tsa\\base\\tsa_model.py:473: ValueWarning: No frequency information was provided, so inferred frequency MS will be used.\n",
      "  self._init_dates(dates, freq)\n",
      "c:\\Users\\a0095989\\Desktop\\important\\Thesis\\Model_Thesis\\model\\Lib\\site-packages\\statsmodels\\tsa\\base\\tsa_model.py:473: ValueWarning: No frequency information was provided, so inferred frequency MS will be used.\n",
      "  self._init_dates(dates, freq)\n"
     ]
    },
    {
     "name": "stdout",
     "output_type": "stream",
     "text": [
      "Mean Absolute Error (MAE) for Neuss: 1.3590845908416143\n",
      "Coefficient of Determination (R²) for Neuss: 0.9252339154734149\n",
      "Training SARIMA for Nuremberg...\n"
     ]
    },
    {
     "name": "stderr",
     "output_type": "stream",
     "text": [
      "c:\\Users\\a0095989\\Desktop\\important\\Thesis\\Model_Thesis\\model\\Lib\\site-packages\\statsmodels\\tsa\\base\\tsa_model.py:473: ValueWarning: No frequency information was provided, so inferred frequency MS will be used.\n",
      "  self._init_dates(dates, freq)\n",
      "c:\\Users\\a0095989\\Desktop\\important\\Thesis\\Model_Thesis\\model\\Lib\\site-packages\\statsmodels\\tsa\\base\\tsa_model.py:473: ValueWarning: No frequency information was provided, so inferred frequency MS will be used.\n",
      "  self._init_dates(dates, freq)\n"
     ]
    },
    {
     "name": "stdout",
     "output_type": "stream",
     "text": [
      "Mean Absolute Error (MAE) for Nuremberg: 1.1715992377004716\n",
      "Coefficient of Determination (R²) for Nuremberg: 0.946892402690316\n",
      "Training SARIMA for Oberhausen...\n"
     ]
    },
    {
     "name": "stderr",
     "output_type": "stream",
     "text": [
      "c:\\Users\\a0095989\\Desktop\\important\\Thesis\\Model_Thesis\\model\\Lib\\site-packages\\statsmodels\\tsa\\base\\tsa_model.py:473: ValueWarning: No frequency information was provided, so inferred frequency MS will be used.\n",
      "  self._init_dates(dates, freq)\n",
      "c:\\Users\\a0095989\\Desktop\\important\\Thesis\\Model_Thesis\\model\\Lib\\site-packages\\statsmodels\\tsa\\base\\tsa_model.py:473: ValueWarning: No frequency information was provided, so inferred frequency MS will be used.\n",
      "  self._init_dates(dates, freq)\n"
     ]
    },
    {
     "name": "stdout",
     "output_type": "stream",
     "text": [
      "Mean Absolute Error (MAE) for Oberhausen: 1.3590845908416143\n",
      "Coefficient of Determination (R²) for Oberhausen: 0.9252339154734149\n",
      "Training SARIMA for Offenbach...\n"
     ]
    },
    {
     "name": "stderr",
     "output_type": "stream",
     "text": [
      "c:\\Users\\a0095989\\Desktop\\important\\Thesis\\Model_Thesis\\model\\Lib\\site-packages\\statsmodels\\tsa\\base\\tsa_model.py:473: ValueWarning: No frequency information was provided, so inferred frequency MS will be used.\n",
      "  self._init_dates(dates, freq)\n",
      "c:\\Users\\a0095989\\Desktop\\important\\Thesis\\Model_Thesis\\model\\Lib\\site-packages\\statsmodels\\tsa\\base\\tsa_model.py:473: ValueWarning: No frequency information was provided, so inferred frequency MS will be used.\n",
      "  self._init_dates(dates, freq)\n"
     ]
    },
    {
     "name": "stdout",
     "output_type": "stream",
     "text": [
      "Mean Absolute Error (MAE) for Offenbach: 1.321146344823689\n",
      "Coefficient of Determination (R²) for Offenbach: 0.9389546737983254\n",
      "Training SARIMA for Oldenburg...\n"
     ]
    },
    {
     "name": "stderr",
     "output_type": "stream",
     "text": [
      "c:\\Users\\a0095989\\Desktop\\important\\Thesis\\Model_Thesis\\model\\Lib\\site-packages\\statsmodels\\tsa\\base\\tsa_model.py:473: ValueWarning: No frequency information was provided, so inferred frequency MS will be used.\n",
      "  self._init_dates(dates, freq)\n",
      "c:\\Users\\a0095989\\Desktop\\important\\Thesis\\Model_Thesis\\model\\Lib\\site-packages\\statsmodels\\tsa\\base\\tsa_model.py:473: ValueWarning: No frequency information was provided, so inferred frequency MS will be used.\n",
      "  self._init_dates(dates, freq)\n"
     ]
    },
    {
     "name": "stdout",
     "output_type": "stream",
     "text": [
      "Mean Absolute Error (MAE) for Oldenburg: 1.1937569936308268\n",
      "Coefficient of Determination (R²) for Oldenburg: 0.9389793135190547\n",
      "Training SARIMA for Osnabrück...\n"
     ]
    },
    {
     "name": "stderr",
     "output_type": "stream",
     "text": [
      "c:\\Users\\a0095989\\Desktop\\important\\Thesis\\Model_Thesis\\model\\Lib\\site-packages\\statsmodels\\tsa\\base\\tsa_model.py:473: ValueWarning: No frequency information was provided, so inferred frequency MS will be used.\n",
      "  self._init_dates(dates, freq)\n",
      "c:\\Users\\a0095989\\Desktop\\important\\Thesis\\Model_Thesis\\model\\Lib\\site-packages\\statsmodels\\tsa\\base\\tsa_model.py:473: ValueWarning: No frequency information was provided, so inferred frequency MS will be used.\n",
      "  self._init_dates(dates, freq)\n"
     ]
    },
    {
     "name": "stdout",
     "output_type": "stream",
     "text": [
      "Mean Absolute Error (MAE) for Osnabrück: 1.1937569936308268\n",
      "Coefficient of Determination (R²) for Osnabrück: 0.9389793135190547\n",
      "Training SARIMA for Paderborn...\n"
     ]
    },
    {
     "name": "stderr",
     "output_type": "stream",
     "text": [
      "c:\\Users\\a0095989\\Desktop\\important\\Thesis\\Model_Thesis\\model\\Lib\\site-packages\\statsmodels\\tsa\\base\\tsa_model.py:473: ValueWarning: No frequency information was provided, so inferred frequency MS will be used.\n",
      "  self._init_dates(dates, freq)\n",
      "c:\\Users\\a0095989\\Desktop\\important\\Thesis\\Model_Thesis\\model\\Lib\\site-packages\\statsmodels\\tsa\\base\\tsa_model.py:473: ValueWarning: No frequency information was provided, so inferred frequency MS will be used.\n",
      "  self._init_dates(dates, freq)\n"
     ]
    },
    {
     "name": "stdout",
     "output_type": "stream",
     "text": [
      "Mean Absolute Error (MAE) for Paderborn: 1.1937569936308268\n",
      "Coefficient of Determination (R²) for Paderborn: 0.9389793135190547\n",
      "Training SARIMA for Pforzheim...\n"
     ]
    },
    {
     "name": "stderr",
     "output_type": "stream",
     "text": [
      "c:\\Users\\a0095989\\Desktop\\important\\Thesis\\Model_Thesis\\model\\Lib\\site-packages\\statsmodels\\tsa\\base\\tsa_model.py:473: ValueWarning: No frequency information was provided, so inferred frequency MS will be used.\n",
      "  self._init_dates(dates, freq)\n",
      "c:\\Users\\a0095989\\Desktop\\important\\Thesis\\Model_Thesis\\model\\Lib\\site-packages\\statsmodels\\tsa\\base\\tsa_model.py:473: ValueWarning: No frequency information was provided, so inferred frequency MS will be used.\n",
      "  self._init_dates(dates, freq)\n"
     ]
    },
    {
     "name": "stdout",
     "output_type": "stream",
     "text": [
      "Mean Absolute Error (MAE) for Pforzheim: 1.2757124932691368\n",
      "Coefficient of Determination (R²) for Pforzheim: 0.9387225837459935\n",
      "Training SARIMA for Potsdam...\n"
     ]
    },
    {
     "name": "stderr",
     "output_type": "stream",
     "text": [
      "c:\\Users\\a0095989\\Desktop\\important\\Thesis\\Model_Thesis\\model\\Lib\\site-packages\\statsmodels\\tsa\\base\\tsa_model.py:473: ValueWarning: No frequency information was provided, so inferred frequency MS will be used.\n",
      "  self._init_dates(dates, freq)\n",
      "c:\\Users\\a0095989\\Desktop\\important\\Thesis\\Model_Thesis\\model\\Lib\\site-packages\\statsmodels\\tsa\\base\\tsa_model.py:473: ValueWarning: No frequency information was provided, so inferred frequency MS will be used.\n",
      "  self._init_dates(dates, freq)\n"
     ]
    },
    {
     "name": "stdout",
     "output_type": "stream",
     "text": [
      "Mean Absolute Error (MAE) for Potsdam: 1.1668689160265133\n",
      "Coefficient of Determination (R²) for Potsdam: 0.9491959095093339\n",
      "Training SARIMA for Ratisbon...\n"
     ]
    },
    {
     "name": "stderr",
     "output_type": "stream",
     "text": [
      "c:\\Users\\a0095989\\Desktop\\important\\Thesis\\Model_Thesis\\model\\Lib\\site-packages\\statsmodels\\tsa\\base\\tsa_model.py:473: ValueWarning: No frequency information was provided, so inferred frequency MS will be used.\n",
      "  self._init_dates(dates, freq)\n",
      "c:\\Users\\a0095989\\Desktop\\important\\Thesis\\Model_Thesis\\model\\Lib\\site-packages\\statsmodels\\tsa\\base\\tsa_model.py:473: ValueWarning: No frequency information was provided, so inferred frequency MS will be used.\n",
      "  self._init_dates(dates, freq)\n"
     ]
    },
    {
     "name": "stdout",
     "output_type": "stream",
     "text": [
      "Mean Absolute Error (MAE) for Ratisbon: 1.1715992377004716\n",
      "Coefficient of Determination (R²) for Ratisbon: 0.946892402690316\n",
      "Training SARIMA for Recklinghausen...\n"
     ]
    },
    {
     "name": "stderr",
     "output_type": "stream",
     "text": [
      "c:\\Users\\a0095989\\Desktop\\important\\Thesis\\Model_Thesis\\model\\Lib\\site-packages\\statsmodels\\tsa\\base\\tsa_model.py:473: ValueWarning: No frequency information was provided, so inferred frequency MS will be used.\n",
      "  self._init_dates(dates, freq)\n",
      "c:\\Users\\a0095989\\Desktop\\important\\Thesis\\Model_Thesis\\model\\Lib\\site-packages\\statsmodels\\tsa\\base\\tsa_model.py:473: ValueWarning: No frequency information was provided, so inferred frequency MS will be used.\n",
      "  self._init_dates(dates, freq)\n"
     ]
    },
    {
     "name": "stdout",
     "output_type": "stream",
     "text": [
      "Mean Absolute Error (MAE) for Recklinghausen: 1.1937569936308268\n",
      "Coefficient of Determination (R²) for Recklinghausen: 0.9389793135190547\n",
      "Training SARIMA for Remscheid...\n"
     ]
    },
    {
     "name": "stderr",
     "output_type": "stream",
     "text": [
      "c:\\Users\\a0095989\\Desktop\\important\\Thesis\\Model_Thesis\\model\\Lib\\site-packages\\statsmodels\\tsa\\base\\tsa_model.py:473: ValueWarning: No frequency information was provided, so inferred frequency MS will be used.\n",
      "  self._init_dates(dates, freq)\n",
      "c:\\Users\\a0095989\\Desktop\\important\\Thesis\\Model_Thesis\\model\\Lib\\site-packages\\statsmodels\\tsa\\base\\tsa_model.py:473: ValueWarning: No frequency information was provided, so inferred frequency MS will be used.\n",
      "  self._init_dates(dates, freq)\n"
     ]
    },
    {
     "name": "stdout",
     "output_type": "stream",
     "text": [
      "Mean Absolute Error (MAE) for Remscheid: 1.3590845908416143\n",
      "Coefficient of Determination (R²) for Remscheid: 0.9252339154734149\n",
      "Training SARIMA for Reutlingen...\n"
     ]
    },
    {
     "name": "stderr",
     "output_type": "stream",
     "text": [
      "c:\\Users\\a0095989\\Desktop\\important\\Thesis\\Model_Thesis\\model\\Lib\\site-packages\\statsmodels\\tsa\\base\\tsa_model.py:473: ValueWarning: No frequency information was provided, so inferred frequency MS will be used.\n",
      "  self._init_dates(dates, freq)\n",
      "c:\\Users\\a0095989\\Desktop\\important\\Thesis\\Model_Thesis\\model\\Lib\\site-packages\\statsmodels\\tsa\\base\\tsa_model.py:473: ValueWarning: No frequency information was provided, so inferred frequency MS will be used.\n",
      "  self._init_dates(dates, freq)\n"
     ]
    },
    {
     "name": "stdout",
     "output_type": "stream",
     "text": [
      "Mean Absolute Error (MAE) for Reutlingen: 1.2757124932691368\n",
      "Coefficient of Determination (R²) for Reutlingen: 0.9387225837459935\n",
      "Training SARIMA for Rostock...\n"
     ]
    },
    {
     "name": "stderr",
     "output_type": "stream",
     "text": [
      "c:\\Users\\a0095989\\Desktop\\important\\Thesis\\Model_Thesis\\model\\Lib\\site-packages\\statsmodels\\tsa\\base\\tsa_model.py:473: ValueWarning: No frequency information was provided, so inferred frequency MS will be used.\n",
      "  self._init_dates(dates, freq)\n",
      "c:\\Users\\a0095989\\Desktop\\important\\Thesis\\Model_Thesis\\model\\Lib\\site-packages\\statsmodels\\tsa\\base\\tsa_model.py:473: ValueWarning: No frequency information was provided, so inferred frequency MS will be used.\n",
      "  self._init_dates(dates, freq)\n"
     ]
    },
    {
     "name": "stdout",
     "output_type": "stream",
     "text": [
      "Mean Absolute Error (MAE) for Rostock: 1.0890010171219864\n",
      "Coefficient of Determination (R²) for Rostock: 0.9591254882043809\n",
      "Training SARIMA for Saarbrücken...\n"
     ]
    },
    {
     "name": "stderr",
     "output_type": "stream",
     "text": [
      "c:\\Users\\a0095989\\Desktop\\important\\Thesis\\Model_Thesis\\model\\Lib\\site-packages\\statsmodels\\tsa\\base\\tsa_model.py:473: ValueWarning: No frequency information was provided, so inferred frequency MS will be used.\n",
      "  self._init_dates(dates, freq)\n",
      "c:\\Users\\a0095989\\Desktop\\important\\Thesis\\Model_Thesis\\model\\Lib\\site-packages\\statsmodels\\tsa\\base\\tsa_model.py:473: ValueWarning: No frequency information was provided, so inferred frequency MS will be used.\n",
      "  self._init_dates(dates, freq)\n"
     ]
    },
    {
     "name": "stdout",
     "output_type": "stream",
     "text": [
      "Mean Absolute Error (MAE) for Saarbrücken: 1.3530054211988194\n",
      "Coefficient of Determination (R²) for Saarbrücken: 0.9293580043045965\n",
      "Training SARIMA for Salzgitter...\n"
     ]
    },
    {
     "name": "stderr",
     "output_type": "stream",
     "text": [
      "c:\\Users\\a0095989\\Desktop\\important\\Thesis\\Model_Thesis\\model\\Lib\\site-packages\\statsmodels\\tsa\\base\\tsa_model.py:473: ValueWarning: No frequency information was provided, so inferred frequency MS will be used.\n",
      "  self._init_dates(dates, freq)\n",
      "c:\\Users\\a0095989\\Desktop\\important\\Thesis\\Model_Thesis\\model\\Lib\\site-packages\\statsmodels\\tsa\\base\\tsa_model.py:473: ValueWarning: No frequency information was provided, so inferred frequency MS will be used.\n",
      "  self._init_dates(dates, freq)\n"
     ]
    },
    {
     "name": "stdout",
     "output_type": "stream",
     "text": [
      "Mean Absolute Error (MAE) for Salzgitter: 1.1723165988708242\n",
      "Coefficient of Determination (R²) for Salzgitter: 0.9415995931472196\n",
      "Training SARIMA for Siegen...\n"
     ]
    },
    {
     "name": "stderr",
     "output_type": "stream",
     "text": [
      "c:\\Users\\a0095989\\Desktop\\important\\Thesis\\Model_Thesis\\model\\Lib\\site-packages\\statsmodels\\tsa\\base\\tsa_model.py:473: ValueWarning: No frequency information was provided, so inferred frequency MS will be used.\n",
      "  self._init_dates(dates, freq)\n",
      "c:\\Users\\a0095989\\Desktop\\important\\Thesis\\Model_Thesis\\model\\Lib\\site-packages\\statsmodels\\tsa\\base\\tsa_model.py:473: ValueWarning: No frequency information was provided, so inferred frequency MS will be used.\n",
      "  self._init_dates(dates, freq)\n"
     ]
    },
    {
     "name": "stdout",
     "output_type": "stream",
     "text": [
      "Mean Absolute Error (MAE) for Siegen: 1.321146344823689\n",
      "Coefficient of Determination (R²) for Siegen: 0.9389546737983254\n",
      "Training SARIMA for Solingen...\n"
     ]
    },
    {
     "name": "stderr",
     "output_type": "stream",
     "text": [
      "c:\\Users\\a0095989\\Desktop\\important\\Thesis\\Model_Thesis\\model\\Lib\\site-packages\\statsmodels\\tsa\\base\\tsa_model.py:473: ValueWarning: No frequency information was provided, so inferred frequency MS will be used.\n",
      "  self._init_dates(dates, freq)\n",
      "c:\\Users\\a0095989\\Desktop\\important\\Thesis\\Model_Thesis\\model\\Lib\\site-packages\\statsmodels\\tsa\\base\\tsa_model.py:473: ValueWarning: No frequency information was provided, so inferred frequency MS will be used.\n",
      "  self._init_dates(dates, freq)\n"
     ]
    },
    {
     "name": "stdout",
     "output_type": "stream",
     "text": [
      "Mean Absolute Error (MAE) for Solingen: 1.3590845908416143\n",
      "Coefficient of Determination (R²) for Solingen: 0.9252339154734149\n",
      "Training SARIMA for Stuttgart...\n"
     ]
    },
    {
     "name": "stderr",
     "output_type": "stream",
     "text": [
      "c:\\Users\\a0095989\\Desktop\\important\\Thesis\\Model_Thesis\\model\\Lib\\site-packages\\statsmodels\\tsa\\base\\tsa_model.py:473: ValueWarning: No frequency information was provided, so inferred frequency MS will be used.\n",
      "  self._init_dates(dates, freq)\n",
      "c:\\Users\\a0095989\\Desktop\\important\\Thesis\\Model_Thesis\\model\\Lib\\site-packages\\statsmodels\\tsa\\base\\tsa_model.py:473: ValueWarning: No frequency information was provided, so inferred frequency MS will be used.\n",
      "  self._init_dates(dates, freq)\n"
     ]
    },
    {
     "name": "stdout",
     "output_type": "stream",
     "text": [
      "Mean Absolute Error (MAE) for Stuttgart: 1.2757124932691368\n",
      "Coefficient of Determination (R²) for Stuttgart: 0.9387225837459935\n",
      "Training SARIMA for Trier...\n"
     ]
    },
    {
     "name": "stderr",
     "output_type": "stream",
     "text": [
      "c:\\Users\\a0095989\\Desktop\\important\\Thesis\\Model_Thesis\\model\\Lib\\site-packages\\statsmodels\\tsa\\base\\tsa_model.py:473: ValueWarning: No frequency information was provided, so inferred frequency MS will be used.\n",
      "  self._init_dates(dates, freq)\n",
      "c:\\Users\\a0095989\\Desktop\\important\\Thesis\\Model_Thesis\\model\\Lib\\site-packages\\statsmodels\\tsa\\base\\tsa_model.py:473: ValueWarning: No frequency information was provided, so inferred frequency MS will be used.\n",
      "  self._init_dates(dates, freq)\n"
     ]
    },
    {
     "name": "stdout",
     "output_type": "stream",
     "text": [
      "Mean Absolute Error (MAE) for Trier: 1.3530054211988194\n",
      "Coefficient of Determination (R²) for Trier: 0.9293580043045965\n",
      "Training SARIMA for Ulm...\n"
     ]
    },
    {
     "name": "stderr",
     "output_type": "stream",
     "text": [
      "c:\\Users\\a0095989\\Desktop\\important\\Thesis\\Model_Thesis\\model\\Lib\\site-packages\\statsmodels\\tsa\\base\\tsa_model.py:473: ValueWarning: No frequency information was provided, so inferred frequency MS will be used.\n",
      "  self._init_dates(dates, freq)\n",
      "c:\\Users\\a0095989\\Desktop\\important\\Thesis\\Model_Thesis\\model\\Lib\\site-packages\\statsmodels\\tsa\\base\\tsa_model.py:473: ValueWarning: No frequency information was provided, so inferred frequency MS will be used.\n",
      "  self._init_dates(dates, freq)\n"
     ]
    },
    {
     "name": "stdout",
     "output_type": "stream",
     "text": [
      "Mean Absolute Error (MAE) for Ulm: 1.2757124932691368\n",
      "Coefficient of Determination (R²) for Ulm: 0.9387225837459935\n",
      "Training SARIMA for Würzburg...\n"
     ]
    },
    {
     "name": "stderr",
     "output_type": "stream",
     "text": [
      "c:\\Users\\a0095989\\Desktop\\important\\Thesis\\Model_Thesis\\model\\Lib\\site-packages\\statsmodels\\tsa\\base\\tsa_model.py:473: ValueWarning: No frequency information was provided, so inferred frequency MS will be used.\n",
      "  self._init_dates(dates, freq)\n",
      "c:\\Users\\a0095989\\Desktop\\important\\Thesis\\Model_Thesis\\model\\Lib\\site-packages\\statsmodels\\tsa\\base\\tsa_model.py:473: ValueWarning: No frequency information was provided, so inferred frequency MS will be used.\n",
      "  self._init_dates(dates, freq)\n"
     ]
    },
    {
     "name": "stdout",
     "output_type": "stream",
     "text": [
      "Mean Absolute Error (MAE) for Würzburg: 1.2757124932691368\n",
      "Coefficient of Determination (R²) for Würzburg: 0.9387225837459935\n",
      "Training SARIMA for Wiesbaden...\n"
     ]
    },
    {
     "name": "stderr",
     "output_type": "stream",
     "text": [
      "c:\\Users\\a0095989\\Desktop\\important\\Thesis\\Model_Thesis\\model\\Lib\\site-packages\\statsmodels\\tsa\\base\\tsa_model.py:473: ValueWarning: No frequency information was provided, so inferred frequency MS will be used.\n",
      "  self._init_dates(dates, freq)\n",
      "c:\\Users\\a0095989\\Desktop\\important\\Thesis\\Model_Thesis\\model\\Lib\\site-packages\\statsmodels\\tsa\\base\\tsa_model.py:473: ValueWarning: No frequency information was provided, so inferred frequency MS will be used.\n",
      "  self._init_dates(dates, freq)\n"
     ]
    },
    {
     "name": "stdout",
     "output_type": "stream",
     "text": [
      "Mean Absolute Error (MAE) for Wiesbaden: 1.321146344823689\n",
      "Coefficient of Determination (R²) for Wiesbaden: 0.9389546737983254\n",
      "Training SARIMA for Witten...\n"
     ]
    },
    {
     "name": "stderr",
     "output_type": "stream",
     "text": [
      "c:\\Users\\a0095989\\Desktop\\important\\Thesis\\Model_Thesis\\model\\Lib\\site-packages\\statsmodels\\tsa\\base\\tsa_model.py:473: ValueWarning: No frequency information was provided, so inferred frequency MS will be used.\n",
      "  self._init_dates(dates, freq)\n",
      "c:\\Users\\a0095989\\Desktop\\important\\Thesis\\Model_Thesis\\model\\Lib\\site-packages\\statsmodels\\tsa\\base\\tsa_model.py:473: ValueWarning: No frequency information was provided, so inferred frequency MS will be used.\n",
      "  self._init_dates(dates, freq)\n"
     ]
    },
    {
     "name": "stdout",
     "output_type": "stream",
     "text": [
      "Mean Absolute Error (MAE) for Witten: 1.1937569936308268\n",
      "Coefficient of Determination (R²) for Witten: 0.9389793135190547\n",
      "Training SARIMA for Wolfsburg...\n"
     ]
    },
    {
     "name": "stderr",
     "output_type": "stream",
     "text": [
      "c:\\Users\\a0095989\\Desktop\\important\\Thesis\\Model_Thesis\\model\\Lib\\site-packages\\statsmodels\\tsa\\base\\tsa_model.py:473: ValueWarning: No frequency information was provided, so inferred frequency MS will be used.\n",
      "  self._init_dates(dates, freq)\n",
      "c:\\Users\\a0095989\\Desktop\\important\\Thesis\\Model_Thesis\\model\\Lib\\site-packages\\statsmodels\\tsa\\base\\tsa_model.py:473: ValueWarning: No frequency information was provided, so inferred frequency MS will be used.\n",
      "  self._init_dates(dates, freq)\n"
     ]
    },
    {
     "name": "stdout",
     "output_type": "stream",
     "text": [
      "Mean Absolute Error (MAE) for Wolfsburg: 1.1723165988708242\n",
      "Coefficient of Determination (R²) for Wolfsburg: 0.9415995931472196\n",
      "Training SARIMA for Wuppertal...\n"
     ]
    },
    {
     "name": "stderr",
     "output_type": "stream",
     "text": [
      "c:\\Users\\a0095989\\Desktop\\important\\Thesis\\Model_Thesis\\model\\Lib\\site-packages\\statsmodels\\tsa\\base\\tsa_model.py:473: ValueWarning: No frequency information was provided, so inferred frequency MS will be used.\n",
      "  self._init_dates(dates, freq)\n",
      "c:\\Users\\a0095989\\Desktop\\important\\Thesis\\Model_Thesis\\model\\Lib\\site-packages\\statsmodels\\tsa\\base\\tsa_model.py:473: ValueWarning: No frequency information was provided, so inferred frequency MS will be used.\n",
      "  self._init_dates(dates, freq)\n"
     ]
    },
    {
     "name": "stdout",
     "output_type": "stream",
     "text": [
      "Mean Absolute Error (MAE) for Wuppertal: 1.3590845908416143\n",
      "Coefficient of Determination (R²) for Wuppertal: 0.9252339154734149\n",
      "       Aachen  Augsburg  Bergisch Gladbach    Berlin  Bielefeld    Bochum  \\\n",
      "MAE  1.359085  1.133552           1.359085  1.166869   1.193757  1.193757   \n",
      "\n",
      "         Bonn   Bottrop    Bremen  Bremerhaven  ...    Siegen  Solingen  \\\n",
      "MAE  1.359085  1.193757  1.120404     1.120404  ...  1.321146  1.359085   \n",
      "\n",
      "     Stuttgart     Trier       Ulm  Würzburg  Wiesbaden    Witten  Wolfsburg  \\\n",
      "MAE   1.275712  1.353005  1.275712  1.275712   1.321146  1.193757   1.172317   \n",
      "\n",
      "     Wuppertal  \n",
      "MAE   1.359085  \n",
      "\n",
      "[1 rows x 81 columns]\n",
      "      Aachen  Augsburg  Bergisch Gladbach    Berlin  Bielefeld    Bochum  \\\n",
      "R²  0.925234  0.939911           0.925234  0.949196   0.938979  0.938979   \n",
      "\n",
      "        Bonn   Bottrop    Bremen  Bremerhaven  ...    Siegen  Solingen  \\\n",
      "R²  0.925234  0.938979  0.951942     0.951942  ...  0.938955  0.925234   \n",
      "\n",
      "    Stuttgart     Trier       Ulm  Würzburg  Wiesbaden    Witten  Wolfsburg  \\\n",
      "R²   0.938723  0.929358  0.938723  0.938723   0.938955  0.938979     0.9416   \n",
      "\n",
      "    Wuppertal  \n",
      "R²   0.925234  \n",
      "\n",
      "[1 rows x 81 columns]\n"
     ]
    },
    {
     "name": "stderr",
     "output_type": "stream",
     "text": [
      "C:\\Users\\a0095989\\AppData\\Local\\Temp\\ipykernel_2116\\1380363482.py:44: FutureWarning: 'M' is deprecated and will be removed in a future version, please use 'ME' instead.\n",
      "  forecast_df.index = pd.date_range(start=\"2013-01-01\", periods=len(forecasts[next(iter(forecasts))]), freq=\"M\")\n"
     ]
    },
    {
     "data": {
      "image/png": "[encoded data removed]",
      "text/plain": [
       "<Figure size 1000x600 with 1 Axes>"
      ]
     },
     "metadata": {},
     "output_type": "display_data"
    }
   ],
   "source": [
    "from sklearn.metrics import mean_absolute_error, r2_score\n",
    "# Prepare storage for forecasts and evaluation\n",
    "forecasts = {}\n",
    "mae_scores = {}\n",
    "r2_scores = {}\n",
    "\n",
    "# Loop through each city and train the SARIMA model\n",
    "for city in train.keys():\n",
    "    print(f\"Training SARIMA for {city}...\")\n",
    "    \n",
    "    # Get the training data for the city\n",
    "    df_city_train = train[city]\n",
    "    \n",
    "    # Train SARIMA model\n",
    "    sarima_model = SARIMAX(df_city_train['AverageTemperature'], \n",
    "                           order=(1,1,1), \n",
    "                           seasonal_order=(1,1,1,12), \n",
    "                           enforce_stationarity=False, \n",
    "                           enforce_invertibility=False)\n",
    "    sarima_result = sarima_model.fit()\n",
    "\n",
    "    # Get the test data for the city\n",
    "    df_city_test = test[city]\n",
    "    \n",
    "    # Forecast for the test set (2012)\n",
    "    forecast = sarima_result.get_forecast(steps=len(df_city_test))\n",
    "    forecast_values = forecast.predicted_mean\n",
    "    \n",
    "    # Store forecasted values\n",
    "    forecasts[city] = forecast_values\n",
    "    \n",
    "    # Calculate performance metrics (Mean Absolute Error and R²)\n",
    "    mae = mean_absolute_error(df_city_test['AverageTemperature'], forecast_values)\n",
    "    r2 = r2_score(df_city_test['AverageTemperature'], forecast_values)\n",
    "    \n",
    "    mae_scores[city] = mae\n",
    "    r2_scores[city] = r2\n",
    "    \n",
    "    print(f\"Mean Absolute Error (MAE) for {city}: {mae}\")\n",
    "    print(f\"Coefficient of Determination (R²) for {city}: {r2}\")\n",
    "\n",
    "# Optionally, store the results in a DataFrame for all cities\n",
    "forecast_df = pd.DataFrame(forecasts)\n",
    "forecast_df.index = pd.date_range(start=\"2013-01-01\", periods=len(forecasts[next(iter(forecasts))]), freq=\"M\")\n",
    "\n",
    "# Save forecast results to CSV\n",
    "forecast_df.to_csv(\"sarima_forecast_2013.csv\")\n",
    "\n",
    "# Print MAE and R² scores for all cities\n",
    "mae_df = pd.DataFrame(mae_scores, index=['MAE'])\n",
    "r2_df = pd.DataFrame(r2_scores, index=['R²'])\n",
    "print(mae_df)\n",
    "print(r2_df)\n",
    "\n",
    "# Optionally, plot the forecasted values for a sample city (e.g., \"Aachen\")\n",
    "plt.figure(figsize=(10, 6))\n",
    "plt.plot(forecast_df.index, forecast_df['Aachen'], label=\"Forecast\")\n",
    "plt.plot(df_city_test.index, df_city_test['AverageTemperature'], label=\"Actual\", linestyle='--')\n",
    "plt.title(\"SARIMA Forecast vs Actual Temperature (Aachen, 2013)\")\n",
    "plt.xlabel(\"Date\")\n",
    "plt.ylabel(\"Temperature (°C)\")\n",
    "plt.legend()\n",
    "plt.show()\n"
   ]
  }
 ],
 "metadata": {
  "kernelspec": {
   "display_name": "model",
   "language": "python",
   "name": "python3"
  },
  "language_info": {
   "codemirror_mode": {
    "name": "ipython",
    "version": 3
   },
   "file_extension": ".py",
   "mimetype": "text/x-python",
   "name": "python",
   "nbconvert_exporter": "python",
   "pygments_lexer": "ipython3",
   "version": "3.12.5"
  }
 },
 "nbformat": 4,
 "nbformat_minor": 2
}
