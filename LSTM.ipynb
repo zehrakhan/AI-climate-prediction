{
 "cells": [
  {
   "cell_type": "code",
   "execution_count": null,
   "metadata": {},
   "outputs": [
    {
     "name": "stdout",
     "output_type": "stream",
     "text": [
      "Epoch 1/100\n"
     ]
    },
    {
     "name": "stderr",
     "output_type": "stream",
     "text": [
      "c:\\Users\\mehja\\Desktop\\zahra\\zehra_thesis\\codes\\.venv\\Lib\\site-packages\\keras\\src\\layers\\rnn\\rnn.py:200: UserWarning:\n",
      "\n",
      "Do not pass an `input_shape`/`input_dim` argument to a layer. When using Sequential models, prefer using an `Input(shape)` object as the first layer in the model instead.\n",
      "\n"
     ]
    },
    {
     "name": "stdout",
     "output_type": "stream",
     "text": [
      "\u001b[1m20/20\u001b[0m \u001b[32m━━━━━━━━━━━━━━━━━━━━\u001b[0m\u001b[37m\u001b[0m \u001b[1m4s\u001b[0m 117ms/step - loss: 0.3250 - val_loss: 0.1902\n",
      "Epoch 2/100\n",
      "\u001b[1m20/20\u001b[0m \u001b[32m━━━━━━━━━━━━━━━━━━━━\u001b[0m\u001b[37m\u001b[0m \u001b[1m2s\u001b[0m 109ms/step - loss: 0.1484 - val_loss: 0.0543\n",
      "Epoch 3/100\n",
      "\u001b[1m20/20\u001b[0m \u001b[32m━━━━━━━━━━━━━━━━━━━━\u001b[0m\u001b[37m\u001b[0m \u001b[1m2s\u001b[0m 117ms/step - loss: 0.0690 - val_loss: 0.0517\n",
      "Epoch 4/100\n",
      "\u001b[1m20/20\u001b[0m \u001b[32m━━━━━━━━━━━━━━━━━━━━\u001b[0m\u001b[37m\u001b[0m \u001b[1m3s\u001b[0m 153ms/step - loss: 0.0647 - val_loss: 0.0501\n",
      "Epoch 5/100\n",
      "\u001b[1m20/20\u001b[0m \u001b[32m━━━━━━━━━━━━━━━━━━━━\u001b[0m\u001b[37m\u001b[0m \u001b[1m4s\u001b[0m 175ms/step - loss: 0.0629 - val_loss: 0.0493\n",
      "Epoch 6/100\n",
      "\u001b[1m20/20\u001b[0m \u001b[32m━━━━━━━━━━━━━━━━━━━━\u001b[0m\u001b[37m\u001b[0m \u001b[1m5s\u001b[0m 251ms/step - loss: 0.0621 - val_loss: 0.0480\n",
      "Epoch 7/100\n",
      "\u001b[1m20/20\u001b[0m \u001b[32m━━━━━━━━━━━━━━━━━━━━\u001b[0m\u001b[37m\u001b[0m \u001b[1m5s\u001b[0m 243ms/step - loss: 0.0617 - val_loss: 0.0476\n",
      "Epoch 8/100\n",
      "\u001b[1m20/20\u001b[0m \u001b[32m━━━━━━━━━━━━━━━━━━━━\u001b[0m\u001b[37m\u001b[0m \u001b[1m5s\u001b[0m 246ms/step - loss: 0.0586 - val_loss: 0.0467\n",
      "Epoch 9/100\n",
      "\u001b[1m20/20\u001b[0m \u001b[32m━━━━━━━━━━━━━━━━━━━━\u001b[0m\u001b[37m\u001b[0m \u001b[1m5s\u001b[0m 242ms/step - loss: 0.0572 - val_loss: 0.0494\n",
      "Epoch 10/100\n",
      "\u001b[1m20/20\u001b[0m \u001b[32m━━━━━━━━━━━━━━━━━━━━\u001b[0m\u001b[37m\u001b[0m \u001b[1m5s\u001b[0m 242ms/step - loss: 0.0571 - val_loss: 0.0463\n",
      "Epoch 11/100\n",
      "\u001b[1m20/20\u001b[0m \u001b[32m━━━━━━━━━━━━━━━━━━━━\u001b[0m\u001b[37m\u001b[0m \u001b[1m5s\u001b[0m 241ms/step - loss: 0.0558 - val_loss: 0.0454\n",
      "Epoch 12/100\n",
      "\u001b[1m20/20\u001b[0m \u001b[32m━━━━━━━━━━━━━━━━━━━━\u001b[0m\u001b[37m\u001b[0m \u001b[1m5s\u001b[0m 251ms/step - loss: 0.0560 - val_loss: 0.0476\n",
      "Epoch 13/100\n",
      "\u001b[1m20/20\u001b[0m \u001b[32m━━━━━━━━━━━━━━━━━━━━\u001b[0m\u001b[37m\u001b[0m \u001b[1m5s\u001b[0m 223ms/step - loss: 0.0557 - val_loss: 0.0449\n",
      "Epoch 14/100\n",
      "\u001b[1m20/20\u001b[0m \u001b[32m━━━━━━━━━━━━━━━━━━━━\u001b[0m\u001b[37m\u001b[0m \u001b[1m2s\u001b[0m 101ms/step - loss: 0.0555 - val_loss: 0.0447\n",
      "Epoch 15/100\n",
      "\u001b[1m20/20\u001b[0m \u001b[32m━━━━━━━━━━━━━━━━━━━━\u001b[0m\u001b[37m\u001b[0m \u001b[1m2s\u001b[0m 97ms/step - loss: 0.0552 - val_loss: 0.0446\n",
      "Epoch 16/100\n",
      "\u001b[1m20/20\u001b[0m \u001b[32m━━━━━━━━━━━━━━━━━━━━\u001b[0m\u001b[37m\u001b[0m \u001b[1m2s\u001b[0m 117ms/step - loss: 0.0540 - val_loss: 0.0443\n",
      "Epoch 17/100\n",
      "\u001b[1m20/20\u001b[0m \u001b[32m━━━━━━━━━━━━━━━━━━━━\u001b[0m\u001b[37m\u001b[0m \u001b[1m2s\u001b[0m 103ms/step - loss: 0.0543 - val_loss: 0.0448\n",
      "Epoch 18/100\n",
      "\u001b[1m20/20\u001b[0m \u001b[32m━━━━━━━━━━━━━━━━━━━━\u001b[0m\u001b[37m\u001b[0m \u001b[1m2s\u001b[0m 105ms/step - loss: 0.0535 - val_loss: 0.0441\n",
      "Epoch 19/100\n",
      "\u001b[1m20/20\u001b[0m \u001b[32m━━━━━━━━━━━━━━━━━━━━\u001b[0m\u001b[37m\u001b[0m \u001b[1m4s\u001b[0m 173ms/step - loss: 0.0543 - val_loss: 0.0442\n",
      "Epoch 20/100\n",
      "\u001b[1m20/20\u001b[0m \u001b[32m━━━━━━━━━━━━━━━━━━━━\u001b[0m\u001b[37m\u001b[0m \u001b[1m5s\u001b[0m 247ms/step - loss: 0.0527 - val_loss: 0.0437\n",
      "Epoch 21/100\n",
      "\u001b[1m20/20\u001b[0m \u001b[32m━━━━━━━━━━━━━━━━━━━━\u001b[0m\u001b[37m\u001b[0m \u001b[1m5s\u001b[0m 254ms/step - loss: 0.0537 - val_loss: 0.0436\n",
      "Epoch 22/100\n",
      "\u001b[1m20/20\u001b[0m \u001b[32m━━━━━━━━━━━━━━━━━━━━\u001b[0m\u001b[37m\u001b[0m \u001b[1m5s\u001b[0m 260ms/step - loss: 0.0523 - val_loss: 0.0434\n",
      "Epoch 23/100\n",
      "\u001b[1m20/20\u001b[0m \u001b[32m━━━━━━━━━━━━━━━━━━━━\u001b[0m\u001b[37m\u001b[0m \u001b[1m5s\u001b[0m 249ms/step - loss: 0.0518 - val_loss: 0.0433\n",
      "Epoch 24/100\n",
      "\u001b[1m20/20\u001b[0m \u001b[32m━━━━━━━━━━━━━━━━━━━━\u001b[0m\u001b[37m\u001b[0m \u001b[1m5s\u001b[0m 254ms/step - loss: 0.0523 - val_loss: 0.0432\n",
      "Epoch 25/100\n",
      "\u001b[1m20/20\u001b[0m \u001b[32m━━━━━━━━━━━━━━━━━━━━\u001b[0m\u001b[37m\u001b[0m \u001b[1m4s\u001b[0m 190ms/step - loss: 0.0514 - val_loss: 0.0431\n",
      "Epoch 26/100\n",
      "\u001b[1m20/20\u001b[0m \u001b[32m━━━━━━━━━━━━━━━━━━━━\u001b[0m\u001b[37m\u001b[0m \u001b[1m2s\u001b[0m 92ms/step - loss: 0.0511 - val_loss: 0.0432\n",
      "Epoch 27/100\n",
      "\u001b[1m20/20\u001b[0m \u001b[32m━━━━━━━━━━━━━━━━━━━━\u001b[0m\u001b[37m\u001b[0m \u001b[1m2s\u001b[0m 112ms/step - loss: 0.0513 - val_loss: 0.0432\n",
      "Epoch 28/100\n",
      "\u001b[1m20/20\u001b[0m \u001b[32m━━━━━━━━━━━━━━━━━━━━\u001b[0m\u001b[37m\u001b[0m \u001b[1m2s\u001b[0m 112ms/step - loss: 0.0512 - val_loss: 0.0432\n",
      "Epoch 29/100\n",
      "\u001b[1m20/20\u001b[0m \u001b[32m━━━━━━━━━━━━━━━━━━━━\u001b[0m\u001b[37m\u001b[0m \u001b[1m2s\u001b[0m 100ms/step - loss: 0.0503 - val_loss: 0.0427\n",
      "Epoch 30/100\n",
      "\u001b[1m20/20\u001b[0m \u001b[32m━━━━━━━━━━━━━━━━━━━━\u001b[0m\u001b[37m\u001b[0m \u001b[1m2s\u001b[0m 110ms/step - loss: 0.0505 - val_loss: 0.0427\n",
      "Epoch 31/100\n",
      "\u001b[1m20/20\u001b[0m \u001b[32m━━━━━━━━━━━━━━━━━━━━\u001b[0m\u001b[37m\u001b[0m \u001b[1m5s\u001b[0m 251ms/step - loss: 0.0504 - val_loss: 0.0428\n",
      "Epoch 32/100\n",
      "\u001b[1m20/20\u001b[0m \u001b[32m━━━━━━━━━━━━━━━━━━━━\u001b[0m\u001b[37m\u001b[0m \u001b[1m5s\u001b[0m 258ms/step - loss: 0.0493 - val_loss: 0.0425\n",
      "Epoch 33/100\n",
      "\u001b[1m20/20\u001b[0m \u001b[32m━━━━━━━━━━━━━━━━━━━━\u001b[0m\u001b[37m\u001b[0m \u001b[1m5s\u001b[0m 247ms/step - loss: 0.0507 - val_loss: 0.0424\n",
      "Epoch 34/100\n",
      "\u001b[1m20/20\u001b[0m \u001b[32m━━━━━━━━━━━━━━━━━━━━\u001b[0m\u001b[37m\u001b[0m \u001b[1m5s\u001b[0m 249ms/step - loss: 0.0505 - val_loss: 0.0424\n",
      "Epoch 35/100\n",
      "\u001b[1m20/20\u001b[0m \u001b[32m━━━━━━━━━━━━━━━━━━━━\u001b[0m\u001b[37m\u001b[0m \u001b[1m5s\u001b[0m 258ms/step - loss: 0.0503 - val_loss: 0.0425\n",
      "Epoch 36/100\n",
      "\u001b[1m20/20\u001b[0m \u001b[32m━━━━━━━━━━━━━━━━━━━━\u001b[0m\u001b[37m\u001b[0m \u001b[1m2s\u001b[0m 104ms/step - loss: 0.0491 - val_loss: 0.0423\n",
      "Epoch 37/100\n",
      "\u001b[1m20/20\u001b[0m \u001b[32m━━━━━━━━━━━━━━━━━━━━\u001b[0m\u001b[37m\u001b[0m \u001b[1m2s\u001b[0m 103ms/step - loss: 0.0500 - val_loss: 0.0420\n",
      "Epoch 38/100\n",
      "\u001b[1m20/20\u001b[0m \u001b[32m━━━━━━━━━━━━━━━━━━━━\u001b[0m\u001b[37m\u001b[0m \u001b[1m2s\u001b[0m 110ms/step - loss: 0.0501 - val_loss: 0.0420\n",
      "Epoch 39/100\n",
      "\u001b[1m20/20\u001b[0m \u001b[32m━━━━━━━━━━━━━━━━━━━━\u001b[0m\u001b[37m\u001b[0m \u001b[1m2s\u001b[0m 108ms/step - loss: 0.0490 - val_loss: 0.0420\n",
      "Epoch 40/100\n",
      "\u001b[1m20/20\u001b[0m \u001b[32m━━━━━━━━━━━━━━━━━━━━\u001b[0m\u001b[37m\u001b[0m \u001b[1m2s\u001b[0m 101ms/step - loss: 0.0485 - val_loss: 0.0419\n",
      "Epoch 41/100\n",
      "\u001b[1m20/20\u001b[0m \u001b[32m━━━━━━━━━━━━━━━━━━━━\u001b[0m\u001b[37m\u001b[0m \u001b[1m2s\u001b[0m 108ms/step - loss: 0.0486 - val_loss: 0.0418\n",
      "Epoch 42/100\n",
      "\u001b[1m20/20\u001b[0m \u001b[32m━━━━━━━━━━━━━━━━━━━━\u001b[0m\u001b[37m\u001b[0m \u001b[1m2s\u001b[0m 105ms/step - loss: 0.0507 - val_loss: 0.0418\n",
      "Epoch 43/100\n",
      "\u001b[1m20/20\u001b[0m \u001b[32m━━━━━━━━━━━━━━━━━━━━\u001b[0m\u001b[37m\u001b[0m \u001b[1m3s\u001b[0m 168ms/step - loss: 0.0495 - val_loss: 0.0418\n",
      "Epoch 44/100\n",
      "\u001b[1m20/20\u001b[0m \u001b[32m━━━━━━━━━━━━━━━━━━━━\u001b[0m\u001b[37m\u001b[0m \u001b[1m5s\u001b[0m 252ms/step - loss: 0.0483 - val_loss: 0.0417\n",
      "Epoch 45/100\n",
      "\u001b[1m20/20\u001b[0m \u001b[32m━━━━━━━━━━━━━━━━━━━━\u001b[0m\u001b[37m\u001b[0m \u001b[1m5s\u001b[0m 248ms/step - loss: 0.0492 - val_loss: 0.0417\n",
      "Epoch 46/100\n",
      "\u001b[1m20/20\u001b[0m \u001b[32m━━━━━━━━━━━━━━━━━━━━\u001b[0m\u001b[37m\u001b[0m \u001b[1m5s\u001b[0m 245ms/step - loss: 0.0486 - val_loss: 0.0416\n",
      "Epoch 47/100\n",
      "\u001b[1m20/20\u001b[0m \u001b[32m━━━━━━━━━━━━━━━━━━━━\u001b[0m\u001b[37m\u001b[0m \u001b[1m5s\u001b[0m 245ms/step - loss: 0.0482 - val_loss: 0.0415\n",
      "Epoch 48/100\n",
      "\u001b[1m20/20\u001b[0m \u001b[32m━━━━━━━━━━━━━━━━━━━━\u001b[0m\u001b[37m\u001b[0m \u001b[1m5s\u001b[0m 242ms/step - loss: 0.0478 - val_loss: 0.0415\n",
      "Epoch 49/100\n",
      "\u001b[1m20/20\u001b[0m \u001b[32m━━━━━━━━━━━━━━━━━━━━\u001b[0m\u001b[37m\u001b[0m \u001b[1m5s\u001b[0m 244ms/step - loss: 0.0500 - val_loss: 0.0419\n",
      "Epoch 50/100\n",
      "\u001b[1m20/20\u001b[0m \u001b[32m━━━━━━━━━━━━━━━━━━━━\u001b[0m\u001b[37m\u001b[0m \u001b[1m5s\u001b[0m 260ms/step - loss: 0.0491 - val_loss: 0.0415\n",
      "Epoch 51/100\n",
      "\u001b[1m20/20\u001b[0m \u001b[32m━━━━━━━━━━━━━━━━━━━━\u001b[0m\u001b[37m\u001b[0m \u001b[1m5s\u001b[0m 247ms/step - loss: 0.0479 - val_loss: 0.0414\n",
      "Epoch 52/100\n",
      "\u001b[1m20/20\u001b[0m \u001b[32m━━━━━━━━━━━━━━━━━━━━\u001b[0m\u001b[37m\u001b[0m \u001b[1m5s\u001b[0m 254ms/step - loss: 0.0474 - val_loss: 0.0413\n",
      "Epoch 53/100\n",
      "\u001b[1m20/20\u001b[0m \u001b[32m━━━━━━━━━━━━━━━━━━━━\u001b[0m\u001b[37m\u001b[0m \u001b[1m5s\u001b[0m 241ms/step - loss: 0.0487 - val_loss: 0.0413\n",
      "Epoch 54/100\n",
      "\u001b[1m20/20\u001b[0m \u001b[32m━━━━━━━━━━━━━━━━━━━━\u001b[0m\u001b[37m\u001b[0m \u001b[1m5s\u001b[0m 243ms/step - loss: 0.0470 - val_loss: 0.0413\n",
      "Epoch 55/100\n",
      "\u001b[1m20/20\u001b[0m \u001b[32m━━━━━━━━━━━━━━━━━━━━\u001b[0m\u001b[37m\u001b[0m \u001b[1m5s\u001b[0m 243ms/step - loss: 0.0476 - val_loss: 0.0412\n",
      "Epoch 56/100\n",
      "\u001b[1m20/20\u001b[0m \u001b[32m━━━━━━━━━━━━━━━━━━━━\u001b[0m\u001b[37m\u001b[0m \u001b[1m5s\u001b[0m 248ms/step - loss: 0.0491 - val_loss: 0.0412\n",
      "Epoch 57/100\n",
      "\u001b[1m20/20\u001b[0m \u001b[32m━━━━━━━━━━━━━━━━━━━━\u001b[0m\u001b[37m\u001b[0m \u001b[1m5s\u001b[0m 252ms/step - loss: 0.0475 - val_loss: 0.0412\n",
      "Epoch 58/100\n",
      "\u001b[1m20/20\u001b[0m \u001b[32m━━━━━━━━━━━━━━━━━━━━\u001b[0m\u001b[37m\u001b[0m \u001b[1m3s\u001b[0m 139ms/step - loss: 0.0476 - val_loss: 0.0412\n",
      "Epoch 59/100\n",
      "\u001b[1m20/20\u001b[0m \u001b[32m━━━━━━━━━━━━━━━━━━━━\u001b[0m\u001b[37m\u001b[0m \u001b[1m2s\u001b[0m 104ms/step - loss: 0.0469 - val_loss: 0.0413\n",
      "Epoch 60/100\n",
      "\u001b[1m20/20\u001b[0m \u001b[32m━━━━━━━━━━━━━━━━━━━━\u001b[0m\u001b[37m\u001b[0m \u001b[1m2s\u001b[0m 107ms/step - loss: 0.0467 - val_loss: 0.0412\n",
      "Epoch 61/100\n",
      "\u001b[1m20/20\u001b[0m \u001b[32m━━━━━━━━━━━━━━━━━━━━\u001b[0m\u001b[37m\u001b[0m \u001b[1m2s\u001b[0m 110ms/step - loss: 0.0461 - val_loss: 0.0411\n",
      "Epoch 62/100\n",
      "\u001b[1m20/20\u001b[0m \u001b[32m━━━━━━━━━━━━━━━━━━━━\u001b[0m\u001b[37m\u001b[0m \u001b[1m2s\u001b[0m 103ms/step - loss: 0.0472 - val_loss: 0.0411\n",
      "Epoch 63/100\n",
      "\u001b[1m20/20\u001b[0m \u001b[32m━━━━━━━━━━━━━━━━━━━━\u001b[0m\u001b[37m\u001b[0m \u001b[1m2s\u001b[0m 113ms/step - loss: 0.0475 - val_loss: 0.0411\n",
      "Epoch 64/100\n",
      "\u001b[1m20/20\u001b[0m \u001b[32m━━━━━━━━━━━━━━━━━━━━\u001b[0m\u001b[37m\u001b[0m \u001b[1m2s\u001b[0m 115ms/step - loss: 0.0477 - val_loss: 0.0410\n",
      "Epoch 65/100\n",
      "\u001b[1m20/20\u001b[0m \u001b[32m━━━━━━━━━━━━━━━━━━━━\u001b[0m\u001b[37m\u001b[0m \u001b[1m2s\u001b[0m 120ms/step - loss: 0.0466 - val_loss: 0.0411\n",
      "Epoch 66/100\n",
      "\u001b[1m20/20\u001b[0m \u001b[32m━━━━━━━━━━━━━━━━━━━━\u001b[0m\u001b[37m\u001b[0m \u001b[1m2s\u001b[0m 109ms/step - loss: 0.0466 - val_loss: 0.0411\n",
      "Epoch 67/100\n",
      "\u001b[1m20/20\u001b[0m \u001b[32m━━━━━━━━━━━━━━━━━━━━\u001b[0m\u001b[37m\u001b[0m \u001b[1m2s\u001b[0m 108ms/step - loss: 0.0469 - val_loss: 0.0413\n",
      "Epoch 68/100\n",
      "\u001b[1m20/20\u001b[0m \u001b[32m━━━━━━━━━━━━━━━━━━━━\u001b[0m\u001b[37m\u001b[0m \u001b[1m2s\u001b[0m 113ms/step - loss: 0.0463 - val_loss: 0.0410\n",
      "Epoch 69/100\n",
      "\u001b[1m20/20\u001b[0m \u001b[32m━━━━━━━━━━━━━━━━━━━━\u001b[0m\u001b[37m\u001b[0m \u001b[1m2s\u001b[0m 110ms/step - loss: 0.0472 - val_loss: 0.0410\n",
      "Epoch 70/100\n",
      "\u001b[1m20/20\u001b[0m \u001b[32m━━━━━━━━━━━━━━━━━━━━\u001b[0m\u001b[37m\u001b[0m \u001b[1m2s\u001b[0m 112ms/step - loss: 0.0459 - val_loss: 0.0413\n",
      "Epoch 71/100\n",
      "\u001b[1m20/20\u001b[0m \u001b[32m━━━━━━━━━━━━━━━━━━━━\u001b[0m\u001b[37m\u001b[0m \u001b[1m2s\u001b[0m 104ms/step - loss: 0.0466 - val_loss: 0.0409\n",
      "Epoch 72/100\n",
      "\u001b[1m20/20\u001b[0m \u001b[32m━━━━━━━━━━━━━━━━━━━━\u001b[0m\u001b[37m\u001b[0m \u001b[1m2s\u001b[0m 106ms/step - loss: 0.0463 - val_loss: 0.0409\n",
      "Epoch 73/100\n",
      "\u001b[1m20/20\u001b[0m \u001b[32m━━━━━━━━━━━━━━━━━━━━\u001b[0m\u001b[37m\u001b[0m \u001b[1m2s\u001b[0m 106ms/step - loss: 0.0464 - val_loss: 0.0409\n",
      "Epoch 74/100\n",
      "\u001b[1m20/20\u001b[0m \u001b[32m━━━━━━━━━━━━━━━━━━━━\u001b[0m\u001b[37m\u001b[0m \u001b[1m2s\u001b[0m 103ms/step - loss: 0.0462 - val_loss: 0.0410\n",
      "Epoch 75/100\n",
      "\u001b[1m20/20\u001b[0m \u001b[32m━━━━━━━━━━━━━━━━━━━━\u001b[0m\u001b[37m\u001b[0m \u001b[1m2s\u001b[0m 105ms/step - loss: 0.0456 - val_loss: 0.0410\n",
      "Epoch 76/100\n",
      "\u001b[1m20/20\u001b[0m \u001b[32m━━━━━━━━━━━━━━━━━━━━\u001b[0m\u001b[37m\u001b[0m \u001b[1m2s\u001b[0m 113ms/step - loss: 0.0458 - val_loss: 0.0408\n",
      "Epoch 77/100\n",
      "\u001b[1m20/20\u001b[0m \u001b[32m━━━━━━━━━━━━━━━━━━━━\u001b[0m\u001b[37m\u001b[0m \u001b[1m4s\u001b[0m 220ms/step - loss: 0.0475 - val_loss: 0.0408\n",
      "Epoch 78/100\n",
      "\u001b[1m20/20\u001b[0m \u001b[32m━━━━━━━━━━━━━━━━━━━━\u001b[0m\u001b[37m\u001b[0m \u001b[1m5s\u001b[0m 239ms/step - loss: 0.0464 - val_loss: 0.0408\n",
      "Epoch 79/100\n",
      "\u001b[1m20/20\u001b[0m \u001b[32m━━━━━━━━━━━━━━━━━━━━\u001b[0m\u001b[37m\u001b[0m \u001b[1m5s\u001b[0m 242ms/step - loss: 0.0460 - val_loss: 0.0409\n",
      "Epoch 80/100\n",
      "\u001b[1m20/20\u001b[0m \u001b[32m━━━━━━━━━━━━━━━━━━━━\u001b[0m\u001b[37m\u001b[0m \u001b[1m6s\u001b[0m 267ms/step - loss: 0.0457 - val_loss: 0.0408\n",
      "Epoch 81/100\n",
      "\u001b[1m20/20\u001b[0m \u001b[32m━━━━━━━━━━━━━━━━━━━━\u001b[0m\u001b[37m\u001b[0m \u001b[1m5s\u001b[0m 264ms/step - loss: 0.0466 - val_loss: 0.0408\n",
      "Epoch 82/100\n",
      "\u001b[1m20/20\u001b[0m \u001b[32m━━━━━━━━━━━━━━━━━━━━\u001b[0m\u001b[37m\u001b[0m \u001b[1m3s\u001b[0m 129ms/step - loss: 0.0456 - val_loss: 0.0407\n",
      "Epoch 83/100\n",
      "\u001b[1m20/20\u001b[0m \u001b[32m━━━━━━━━━━━━━━━━━━━━\u001b[0m\u001b[37m\u001b[0m \u001b[1m2s\u001b[0m 108ms/step - loss: 0.0466 - val_loss: 0.0408\n",
      "Epoch 84/100\n",
      "\u001b[1m20/20\u001b[0m \u001b[32m━━━━━━━━━━━━━━━━━━━━\u001b[0m\u001b[37m\u001b[0m \u001b[1m2s\u001b[0m 104ms/step - loss: 0.0463 - val_loss: 0.0408\n",
      "Epoch 85/100\n",
      "\u001b[1m20/20\u001b[0m \u001b[32m━━━━━━━━━━━━━━━━━━━━\u001b[0m\u001b[37m\u001b[0m \u001b[1m2s\u001b[0m 118ms/step - loss: 0.0456 - val_loss: 0.0407\n",
      "Epoch 86/100\n",
      "\u001b[1m20/20\u001b[0m \u001b[32m━━━━━━━━━━━━━━━━━━━━\u001b[0m\u001b[37m\u001b[0m \u001b[1m2s\u001b[0m 114ms/step - loss: 0.0461 - val_loss: 0.0407\n",
      "Epoch 87/100\n",
      "\u001b[1m20/20\u001b[0m \u001b[32m━━━━━━━━━━━━━━━━━━━━\u001b[0m\u001b[37m\u001b[0m \u001b[1m2s\u001b[0m 101ms/step - loss: 0.0458 - val_loss: 0.0407\n",
      "Epoch 88/100\n",
      "\u001b[1m20/20\u001b[0m \u001b[32m━━━━━━━━━━━━━━━━━━━━\u001b[0m\u001b[37m\u001b[0m \u001b[1m2s\u001b[0m 105ms/step - loss: 0.0451 - val_loss: 0.0407\n",
      "Epoch 89/100\n",
      "\u001b[1m20/20\u001b[0m \u001b[32m━━━━━━━━━━━━━━━━━━━━\u001b[0m\u001b[37m\u001b[0m \u001b[1m2s\u001b[0m 110ms/step - loss: 0.0473 - val_loss: 0.0408\n",
      "Epoch 90/100\n",
      "\u001b[1m20/20\u001b[0m \u001b[32m━━━━━━━━━━━━━━━━━━━━\u001b[0m\u001b[37m\u001b[0m \u001b[1m2s\u001b[0m 103ms/step - loss: 0.0462 - val_loss: 0.0406\n",
      "Epoch 91/100\n",
      "\u001b[1m20/20\u001b[0m \u001b[32m━━━━━━━━━━━━━━━━━━━━\u001b[0m\u001b[37m\u001b[0m \u001b[1m2s\u001b[0m 117ms/step - loss: 0.0457 - val_loss: 0.0407\n",
      "Epoch 92/100\n",
      "\u001b[1m20/20\u001b[0m \u001b[32m━━━━━━━━━━━━━━━━━━━━\u001b[0m\u001b[37m\u001b[0m \u001b[1m2s\u001b[0m 118ms/step - loss: 0.0455 - val_loss: 0.0410\n",
      "Epoch 93/100\n",
      "\u001b[1m20/20\u001b[0m \u001b[32m━━━━━━━━━━━━━━━━━━━━\u001b[0m\u001b[37m\u001b[0m \u001b[1m2s\u001b[0m 117ms/step - loss: 0.0455 - val_loss: 0.0407\n",
      "Epoch 94/100\n",
      "\u001b[1m20/20\u001b[0m \u001b[32m━━━━━━━━━━━━━━━━━━━━\u001b[0m\u001b[37m\u001b[0m \u001b[1m2s\u001b[0m 102ms/step - loss: 0.0446 - val_loss: 0.0412\n",
      "Epoch 95/100\n",
      "\u001b[1m20/20\u001b[0m \u001b[32m━━━━━━━━━━━━━━━━━━━━\u001b[0m\u001b[37m\u001b[0m \u001b[1m2s\u001b[0m 110ms/step - loss: 0.0460 - val_loss: 0.0407\n",
      "Epoch 96/100\n",
      "\u001b[1m20/20\u001b[0m \u001b[32m━━━━━━━━━━━━━━━━━━━━\u001b[0m\u001b[37m\u001b[0m \u001b[1m2s\u001b[0m 111ms/step - loss: 0.0461 - val_loss: 0.0410\n",
      "Epoch 97/100\n",
      "\u001b[1m20/20\u001b[0m \u001b[32m━━━━━━━━━━━━━━━━━━━━\u001b[0m\u001b[37m\u001b[0m \u001b[1m2s\u001b[0m 102ms/step - loss: 0.0455 - val_loss: 0.0406\n",
      "Epoch 98/100\n",
      "\u001b[1m20/20\u001b[0m \u001b[32m━━━━━━━━━━━━━━━━━━━━\u001b[0m\u001b[37m\u001b[0m \u001b[1m2s\u001b[0m 108ms/step - loss: 0.0468 - val_loss: 0.0407\n",
      "Epoch 99/100\n",
      "\u001b[1m20/20\u001b[0m \u001b[32m━━━━━━━━━━━━━━━━━━━━\u001b[0m\u001b[37m\u001b[0m \u001b[1m2s\u001b[0m 105ms/step - loss: 0.0457 - val_loss: 0.0405\n",
      "Epoch 100/100\n",
      "\u001b[1m20/20\u001b[0m \u001b[32m━━━━━━━━━━━━━━━━━━━━\u001b[0m\u001b[37m\u001b[0m \u001b[1m2s\u001b[0m 108ms/step - loss: 0.0458 - val_loss: 0.0406\n"
     ]
    },
    {
     "data": {
      "image/png": "[encoded data removed]",
      "text/plain": [
       "<Figure size 640x480 with 1 Axes>"
      ]
     },
     "metadata": {},
     "output_type": "display_data"
    }
   ],
   "source": [
    "import numpy as np\n",
    "import matplotlib.pyplot as plt\n",
    "from tensorflow.keras.models import Sequential\n",
    "from tensorflow.keras.layers import LSTM, Dense, Dropout\n",
    "from tensorflow.keras.optimizers import Adam, RMSprop\n",
    "from sklearn.preprocessing import MinMaxScaler\n",
    "from sklearn.model_selection import train_test_split\n",
    "import pandas as pd\n",
    "\n",
    "# Load the dataset\n",
    "df = pd.read_csv('C:/Users/mehja/Desktop/zahra/zehra_thesis/codes/imputed_deu_data1.csv')\n",
    "\n",
    "# Filter the dataset for Aachen\n",
    "df_aachen = df[df[\"City\"] == \"Aachen\"].copy()  # Make a copy to avoid setting on a view\n",
    "\n",
    "# Clean Latitude and Longitude columns by removing N, S, E, W and converting to float\n",
    "df_aachen['Latitude'] = df_aachen['Latitude'].replace(r'[^\\d.-]', '', regex=True).astype(float)\n",
    "df_aachen['Longitude'] = df_aachen['Longitude'].replace(r'[^\\d.-]', '', regex=True).astype(float)\n",
    "\n",
    "# Create a new column for 'YearsSince1744' using .loc to avoid the warning\n",
    "df_aachen.loc[:, \"YearsSince1744\"] = df_aachen[\"Year\"] - 1744\n",
    "\n",
    "# Selecting features\n",
    "features = ['YearsSince1744', 'AverageTemperatureUncertainty','Latitude', 'Longitude', 'TemperatureAnomaly', 'TemperatureChange', 'Yearly_Avg_Temperature']\n",
    "target = 'AverageTemperature'\n",
    "\n",
    "\n",
    "# Normalize the feature set\n",
    "# Normalize features\n",
    "scaler_X = MinMaxScaler(feature_range=(0, 1))\n",
    "scaler_y = MinMaxScaler(feature_range=(0, 1))\n",
    "X_scaled = scaler_X.fit_transform(df_aachen[features])\n",
    "y_scaled = scaler_y.fit_transform(df_aachen[[target]])  # Scale the target separately\n",
    "\n",
    "# Convert data into sequences (using last 10 years to predict the next year)\n",
    "def create_sequences(X, y, time_steps=120):\n",
    "    X_seq, y_seq = [], []\n",
    "    for i in range(len(X) - time_steps):\n",
    "        X_seq.append(X[i: i + time_steps])  # Collect past `time_steps` data\n",
    "        y_seq.append(y[i + time_steps])  # Predict the next value\n",
    "    return np.array(X_seq), np.array(y_seq)\n",
    "\n",
    "# Prepare sequences\n",
    "time_steps = 120\n",
    "X_seq, y_seq = create_sequences(X_scaled, y_scaled, time_steps)\n",
    "\n",
    "# Split into training & validation sets (80% train, 20% validation)\n",
    "X_train, X_val, y_train, y_val = train_test_split(X_seq, y_seq, test_size=0.2, shuffle=False)\n",
    "\n",
    "# Build the LSTM model\n",
    "model = Sequential([\n",
    "    LSTM(59, activation=\"relu\", input_shape=(time_steps, X_seq.shape[2])),\n",
    "    Dropout(0.4),\n",
    "   \n",
    "    Dense(1)\n",
    "])\n",
    "\n",
    "# Compile the model\n",
    "model.compile(optimizer=RMSprop(learning_rate=0.0003), loss=\"mae\")\n",
    "\n",
    "\n",
    "\n",
    "# Train the model\n",
    "history = model.fit(X_train, y_train, epochs=100, batch_size=128, validation_data=(X_val, y_val), verbose=1)\n",
    "\n",
    "# Plot loss curves\n",
    "plt.plot(history.history['loss'], label='Training Loss')\n",
    "plt.plot(history.history['val_loss'], label='Validation Loss')\n",
    "plt.xlabel('Epochs')\n",
    "plt.ylabel('Loss')\n",
    "plt.legend()\n",
    "plt.title('Training and Validation Loss')\n",
    "plt.show()\n"
   ]
  },
  {
   "cell_type": "code",
   "execution_count": null,
   "metadata": {},
   "outputs": [
    {
     "name": "stdout",
     "output_type": "stream",
     "text": [
      "\u001b[1m20/20\u001b[0m \u001b[32m━━━━━━━━━━━━━━━━━━━━\u001b[0m\u001b[37m\u001b[0m \u001b[1m0s\u001b[0m 18ms/step\n"
     ]
    },
    {
     "ename": "NameError",
     "evalue": "name 'scaler_y' is not defined",
     "output_type": "error",
     "traceback": [
      "\u001b[31m---------------------------------------------------------------------------\u001b[39m",
      "\u001b[31mNameError\u001b[39m                                 Traceback (most recent call last)",
      "\u001b[36mCell\u001b[39m\u001b[36m \u001b[39m\u001b[32mIn[42]\u001b[39m\u001b[32m, line 5\u001b[39m\n\u001b[32m      2\u001b[39m y_pred = model.predict(X_val)\n\u001b[32m      4\u001b[39m \u001b[38;5;66;03m# Inverse transform the predictions and actual values\u001b[39;00m\n\u001b[32m----> \u001b[39m\u001b[32m5\u001b[39m y_pred_inv = \u001b[43mscaler_y\u001b[49m.inverse_transform(y_pred)  \u001b[38;5;66;03m# Use the correct target scaler\u001b[39;00m\n\u001b[32m      6\u001b[39m y_val_inv = scaler_y.inverse_transform(y_val)\n\u001b[32m      8\u001b[39m \u001b[38;5;66;03m# Extract corresponding years for validation set\u001b[39;00m\n",
      "\u001b[31mNameError\u001b[39m: name 'scaler_y' is not defined"
     ]
    }
   ],
   "source": [
    "# Make predictions\n",
    "y_pred = model.predict(X_val)\n",
    "\n",
    "# Inverse transform the predictions and actual values\n",
    "y_pred_inv = scaler_y.inverse_transform(y_pred)  # Use the correct target scaler\n",
    "y_val_inv = scaler_y.inverse_transform(y_val)\n",
    "\n",
    "# Extract corresponding years for validation set\n",
    "val_start_idx = len(df_aachen) - len(y_val)  # Start index of validation data\n",
    "years = df_aachen[\"Year\"].iloc[val_start_idx:].values  # Ensure proper alignment\n",
    "\n",
    "# Plot actual vs. predicted values\n",
    "plt.figure(figsize=(10, 5))\n",
    "plt.plot(years, y_val_inv, label=\"Actual\", marker='o', linestyle=\"-\")\n",
    "plt.plot(years, y_pred_inv, label=\"Predicted\", marker=None, linestyle=\"--\")\n",
    "plt.xlabel(\"Year\")\n",
    "plt.ylabel(\"Temperature\")\n",
    "plt.legend()\n",
    "plt.title(\"Actual vs. Predicted Temperature (LSTM)\")\n",
    "plt.show()\n"
   ]
  },
  {
   "cell_type": "code",
   "execution_count": 38,
   "metadata": {},
   "outputs": [
    {
     "name": "stdout",
     "output_type": "stream",
     "text": [
      "\u001b[1m21/21\u001b[0m \u001b[32m━━━━━━━━━━━━━━━━━━━━\u001b[0m\u001b[37m\u001b[0m \u001b[1m0s\u001b[0m 5ms/step\n"
     ]
    },
    {
     "ename": "ValueError",
     "evalue": "Found array with dim 3. None expected <= 2.",
     "output_type": "error",
     "traceback": [
      "\u001b[31m---------------------------------------------------------------------------\u001b[39m",
      "\u001b[31mValueError\u001b[39m                                Traceback (most recent call last)",
      "\u001b[36mCell\u001b[39m\u001b[36m \u001b[39m\u001b[32mIn[38]\u001b[39m\u001b[32m, line 6\u001b[39m\n\u001b[32m      3\u001b[39m y_pred = model.predict(X_val)\n\u001b[32m      5\u001b[39m \u001b[38;5;66;03m# Compute MAE, MSE, and R^2\u001b[39;00m\n\u001b[32m----> \u001b[39m\u001b[32m6\u001b[39m mae = \u001b[43mmean_absolute_error\u001b[49m\u001b[43m(\u001b[49m\u001b[43my_val\u001b[49m\u001b[43m,\u001b[49m\u001b[43m \u001b[49m\u001b[43my_pred\u001b[49m\u001b[43m)\u001b[49m\n\u001b[32m      7\u001b[39m mse = mean_squared_error(y_val, y_pred)\n\u001b[32m      8\u001b[39m r2 = r2_score(y_val, y_pred)\n",
      "\u001b[36mFile \u001b[39m\u001b[32mc:\\Users\\mehja\\Desktop\\zahra\\zehra_thesis\\codes\\.venv\\Lib\\site-packages\\sklearn\\utils\\_param_validation.py:216\u001b[39m, in \u001b[36mvalidate_params.<locals>.decorator.<locals>.wrapper\u001b[39m\u001b[34m(*args, **kwargs)\u001b[39m\n\u001b[32m    210\u001b[39m \u001b[38;5;28;01mtry\u001b[39;00m:\n\u001b[32m    211\u001b[39m     \u001b[38;5;28;01mwith\u001b[39;00m config_context(\n\u001b[32m    212\u001b[39m         skip_parameter_validation=(\n\u001b[32m    213\u001b[39m             prefer_skip_nested_validation \u001b[38;5;129;01mor\u001b[39;00m global_skip_validation\n\u001b[32m    214\u001b[39m         )\n\u001b[32m    215\u001b[39m     ):\n\u001b[32m--> \u001b[39m\u001b[32m216\u001b[39m         \u001b[38;5;28;01mreturn\u001b[39;00m \u001b[43mfunc\u001b[49m\u001b[43m(\u001b[49m\u001b[43m*\u001b[49m\u001b[43margs\u001b[49m\u001b[43m,\u001b[49m\u001b[43m \u001b[49m\u001b[43m*\u001b[49m\u001b[43m*\u001b[49m\u001b[43mkwargs\u001b[49m\u001b[43m)\u001b[49m\n\u001b[32m    217\u001b[39m \u001b[38;5;28;01mexcept\u001b[39;00m InvalidParameterError \u001b[38;5;28;01mas\u001b[39;00m e:\n\u001b[32m    218\u001b[39m     \u001b[38;5;66;03m# When the function is just a wrapper around an estimator, we allow\u001b[39;00m\n\u001b[32m    219\u001b[39m     \u001b[38;5;66;03m# the function to delegate validation to the estimator, but we replace\u001b[39;00m\n\u001b[32m    220\u001b[39m     \u001b[38;5;66;03m# the name of the estimator by the name of the function in the error\u001b[39;00m\n\u001b[32m    221\u001b[39m     \u001b[38;5;66;03m# message to avoid confusion.\u001b[39;00m\n\u001b[32m    222\u001b[39m     msg = re.sub(\n\u001b[32m    223\u001b[39m         \u001b[33mr\u001b[39m\u001b[33m\"\u001b[39m\u001b[33mparameter of \u001b[39m\u001b[33m\\\u001b[39m\u001b[33mw+ must be\u001b[39m\u001b[33m\"\u001b[39m,\n\u001b[32m    224\u001b[39m         \u001b[33mf\u001b[39m\u001b[33m\"\u001b[39m\u001b[33mparameter of \u001b[39m\u001b[38;5;132;01m{\u001b[39;00mfunc.\u001b[34m__qualname__\u001b[39m\u001b[38;5;132;01m}\u001b[39;00m\u001b[33m must be\u001b[39m\u001b[33m\"\u001b[39m,\n\u001b[32m    225\u001b[39m         \u001b[38;5;28mstr\u001b[39m(e),\n\u001b[32m    226\u001b[39m     )\n",
      "\u001b[36mFile \u001b[39m\u001b[32mc:\\Users\\mehja\\Desktop\\zahra\\zehra_thesis\\codes\\.venv\\Lib\\site-packages\\sklearn\\metrics\\_regression.py:277\u001b[39m, in \u001b[36mmean_absolute_error\u001b[39m\u001b[34m(y_true, y_pred, sample_weight, multioutput)\u001b[39m\n\u001b[32m    222\u001b[39m \u001b[38;5;250m\u001b[39m\u001b[33;03m\"\"\"Mean absolute error regression loss.\u001b[39;00m\n\u001b[32m    223\u001b[39m \n\u001b[32m    224\u001b[39m \u001b[33;03mRead more in the :ref:`User Guide <mean_absolute_error>`.\u001b[39;00m\n\u001b[32m   (...)\u001b[39m\u001b[32m    272\u001b[39m \u001b[33;03m0.85...\u001b[39;00m\n\u001b[32m    273\u001b[39m \u001b[33;03m\"\"\"\u001b[39;00m\n\u001b[32m    274\u001b[39m xp, _ = get_namespace(y_true, y_pred, sample_weight, multioutput)\n\u001b[32m    276\u001b[39m _, y_true, y_pred, sample_weight, multioutput = (\n\u001b[32m--> \u001b[39m\u001b[32m277\u001b[39m     \u001b[43m_check_reg_targets_with_floating_dtype\u001b[49m\u001b[43m(\u001b[49m\n\u001b[32m    278\u001b[39m \u001b[43m        \u001b[49m\u001b[43my_true\u001b[49m\u001b[43m,\u001b[49m\u001b[43m \u001b[49m\u001b[43my_pred\u001b[49m\u001b[43m,\u001b[49m\u001b[43m \u001b[49m\u001b[43msample_weight\u001b[49m\u001b[43m,\u001b[49m\u001b[43m \u001b[49m\u001b[43mmultioutput\u001b[49m\u001b[43m,\u001b[49m\u001b[43m \u001b[49m\u001b[43mxp\u001b[49m\u001b[43m=\u001b[49m\u001b[43mxp\u001b[49m\n\u001b[32m    279\u001b[39m \u001b[43m    \u001b[49m\u001b[43m)\u001b[49m\n\u001b[32m    280\u001b[39m )\n\u001b[32m    282\u001b[39m check_consistent_length(y_true, y_pred, sample_weight)\n\u001b[32m    284\u001b[39m output_errors = _average(\n\u001b[32m    285\u001b[39m     xp.abs(y_pred - y_true), weights=sample_weight, axis=\u001b[32m0\u001b[39m, xp=xp\n\u001b[32m    286\u001b[39m )\n",
      "\u001b[36mFile \u001b[39m\u001b[32mc:\\Users\\mehja\\Desktop\\zahra\\zehra_thesis\\codes\\.venv\\Lib\\site-packages\\sklearn\\metrics\\_regression.py:198\u001b[39m, in \u001b[36m_check_reg_targets_with_floating_dtype\u001b[39m\u001b[34m(y_true, y_pred, sample_weight, multioutput, xp)\u001b[39m\n\u001b[32m    148\u001b[39m \u001b[38;5;250m\u001b[39m\u001b[33;03m\"\"\"Ensures that y_true, y_pred, and sample_weight correspond to the same\u001b[39;00m\n\u001b[32m    149\u001b[39m \u001b[33;03mregression task.\u001b[39;00m\n\u001b[32m    150\u001b[39m \n\u001b[32m   (...)\u001b[39m\u001b[32m    194\u001b[39m \u001b[33;03m    correct keyword.\u001b[39;00m\n\u001b[32m    195\u001b[39m \u001b[33;03m\"\"\"\u001b[39;00m\n\u001b[32m    196\u001b[39m dtype_name = _find_matching_floating_dtype(y_true, y_pred, sample_weight, xp=xp)\n\u001b[32m--> \u001b[39m\u001b[32m198\u001b[39m y_type, y_true, y_pred, multioutput = \u001b[43m_check_reg_targets\u001b[49m\u001b[43m(\u001b[49m\n\u001b[32m    199\u001b[39m \u001b[43m    \u001b[49m\u001b[43my_true\u001b[49m\u001b[43m,\u001b[49m\u001b[43m \u001b[49m\u001b[43my_pred\u001b[49m\u001b[43m,\u001b[49m\u001b[43m \u001b[49m\u001b[43mmultioutput\u001b[49m\u001b[43m,\u001b[49m\u001b[43m \u001b[49m\u001b[43mdtype\u001b[49m\u001b[43m=\u001b[49m\u001b[43mdtype_name\u001b[49m\u001b[43m,\u001b[49m\u001b[43m \u001b[49m\u001b[43mxp\u001b[49m\u001b[43m=\u001b[49m\u001b[43mxp\u001b[49m\n\u001b[32m    200\u001b[39m \u001b[43m\u001b[49m\u001b[43m)\u001b[49m\n\u001b[32m    202\u001b[39m \u001b[38;5;66;03m# _check_reg_targets does not accept sample_weight as input.\u001b[39;00m\n\u001b[32m    203\u001b[39m \u001b[38;5;66;03m# Convert sample_weight's data type separately to match dtype_name.\u001b[39;00m\n\u001b[32m    204\u001b[39m \u001b[38;5;28;01mif\u001b[39;00m sample_weight \u001b[38;5;129;01mis\u001b[39;00m \u001b[38;5;129;01mnot\u001b[39;00m \u001b[38;5;28;01mNone\u001b[39;00m:\n",
      "\u001b[36mFile \u001b[39m\u001b[32mc:\\Users\\mehja\\Desktop\\zahra\\zehra_thesis\\codes\\.venv\\Lib\\site-packages\\sklearn\\metrics\\_regression.py:106\u001b[39m, in \u001b[36m_check_reg_targets\u001b[39m\u001b[34m(y_true, y_pred, multioutput, dtype, xp)\u001b[39m\n\u001b[32m    104\u001b[39m check_consistent_length(y_true, y_pred)\n\u001b[32m    105\u001b[39m y_true = check_array(y_true, ensure_2d=\u001b[38;5;28;01mFalse\u001b[39;00m, dtype=dtype)\n\u001b[32m--> \u001b[39m\u001b[32m106\u001b[39m y_pred = \u001b[43mcheck_array\u001b[49m\u001b[43m(\u001b[49m\u001b[43my_pred\u001b[49m\u001b[43m,\u001b[49m\u001b[43m \u001b[49m\u001b[43mensure_2d\u001b[49m\u001b[43m=\u001b[49m\u001b[38;5;28;43;01mFalse\u001b[39;49;00m\u001b[43m,\u001b[49m\u001b[43m \u001b[49m\u001b[43mdtype\u001b[49m\u001b[43m=\u001b[49m\u001b[43mdtype\u001b[49m\u001b[43m)\u001b[49m\n\u001b[32m    108\u001b[39m \u001b[38;5;28;01mif\u001b[39;00m y_true.ndim == \u001b[32m1\u001b[39m:\n\u001b[32m    109\u001b[39m     y_true = xp.reshape(y_true, (-\u001b[32m1\u001b[39m, \u001b[32m1\u001b[39m))\n",
      "\u001b[36mFile \u001b[39m\u001b[32mc:\\Users\\mehja\\Desktop\\zahra\\zehra_thesis\\codes\\.venv\\Lib\\site-packages\\sklearn\\utils\\validation.py:1101\u001b[39m, in \u001b[36mcheck_array\u001b[39m\u001b[34m(array, accept_sparse, accept_large_sparse, dtype, order, copy, force_writeable, force_all_finite, ensure_all_finite, ensure_non_negative, ensure_2d, allow_nd, ensure_min_samples, ensure_min_features, estimator, input_name)\u001b[39m\n\u001b[32m   1096\u001b[39m     \u001b[38;5;28;01mraise\u001b[39;00m \u001b[38;5;167;01mValueError\u001b[39;00m(\n\u001b[32m   1097\u001b[39m         \u001b[33m\"\u001b[39m\u001b[33mdtype=\u001b[39m\u001b[33m'\u001b[39m\u001b[33mnumeric\u001b[39m\u001b[33m'\u001b[39m\u001b[33m is not compatible with arrays of bytes/strings.\u001b[39m\u001b[33m\"\u001b[39m\n\u001b[32m   1098\u001b[39m         \u001b[33m\"\u001b[39m\u001b[33mConvert your data to numeric values explicitly instead.\u001b[39m\u001b[33m\"\u001b[39m\n\u001b[32m   1099\u001b[39m     )\n\u001b[32m   1100\u001b[39m \u001b[38;5;28;01mif\u001b[39;00m \u001b[38;5;129;01mnot\u001b[39;00m allow_nd \u001b[38;5;129;01mand\u001b[39;00m array.ndim >= \u001b[32m3\u001b[39m:\n\u001b[32m-> \u001b[39m\u001b[32m1101\u001b[39m     \u001b[38;5;28;01mraise\u001b[39;00m \u001b[38;5;167;01mValueError\u001b[39;00m(\n\u001b[32m   1102\u001b[39m         \u001b[33m\"\u001b[39m\u001b[33mFound array with dim \u001b[39m\u001b[38;5;132;01m%d\u001b[39;00m\u001b[33m. \u001b[39m\u001b[38;5;132;01m%s\u001b[39;00m\u001b[33m expected <= 2.\u001b[39m\u001b[33m\"\u001b[39m\n\u001b[32m   1103\u001b[39m         % (array.ndim, estimator_name)\n\u001b[32m   1104\u001b[39m     )\n\u001b[32m   1106\u001b[39m \u001b[38;5;28;01mif\u001b[39;00m ensure_all_finite:\n\u001b[32m   1107\u001b[39m     _assert_all_finite(\n\u001b[32m   1108\u001b[39m         array,\n\u001b[32m   1109\u001b[39m         input_name=input_name,\n\u001b[32m   1110\u001b[39m         estimator_name=estimator_name,\n\u001b[32m   1111\u001b[39m         allow_nan=ensure_all_finite == \u001b[33m\"\u001b[39m\u001b[33mallow-nan\u001b[39m\u001b[33m\"\u001b[39m,\n\u001b[32m   1112\u001b[39m     )\n",
      "\u001b[31mValueError\u001b[39m: Found array with dim 3. None expected <= 2."
     ]
    }
   ],
   "source": [
    "from sklearn.metrics import mean_absolute_error, mean_squared_error, r2_score\n",
    "# Predict using the trained model\n",
    "y_pred = model.predict(X_val)\n",
    "\n",
    "# Compute MAE, MSE, and R^2\n",
    "mae = mean_absolute_error(y_val, y_pred)\n",
    "mse = mean_squared_error(y_val, y_pred)\n",
    "r2 = r2_score(y_val, y_pred)\n",
    "\n",
    "print(f\"Mean Absolute Error (MAE): {mae}\")\n",
    "print(f\"Mean Squared Error (MSE): {mse}\")\n",
    "print(f\"R-squared (R²): {r2}\")"
   ]
  },
  {
   "cell_type": "code",
   "execution_count": 10,
   "metadata": {},
   "outputs": [
    {
     "data": {
      "application/vnd.plotly.v1+json": {
       "config": {
        "plotlyServerURL": "https://plot.ly"
       },
       "data": [
        {
         "marker": {
          "color": "blue",
          "size": 6,
          "symbol": "circle"
         },
         "mode": "lines+markers",
         "name": "Actual",
         "type": "scatter",
         "x": {
          "bdata": "pwenB6cHpwenB6cHpwenB6gHqAeoB6gHqAeoB6gHqAeoB6gHqAeoB6kHqQepB6kHqQepB6kHqQepB6kHqQepB6oHqgeqB6oHqgeqB6oHqgeqB6oHqgeqB6sHqwerB6sHqwerB6sHqwerB6sHqwerB6wHrAesB6wHrAesB6wHrAesB6wHrAesB60HrQetB60HrQetB60HrQetB60HrQetB64HrgeuB64HrgeuB64HrgeuB64HrgeuB68HrwevB68HrwevB68HrwevB68HrwevB7AHsAewB7AHsAewB7AHsAewB7AHsAewB7EHsQexB7EHsQexB7EHsQexB7EHsQexB7IHsgeyB7IHsgeyB7IHsgeyB7IHsgeyB7MHswezB7MHswezB7MHswezB7MHswezB7QHtAe0B7QHtAe0B7QHtAe0B7QHtAe0B7UHtQe1B7UHtQe1B7UHtQe1B7UHtQe1B7YHtge2B7YHtge2B7YHtge2B7YHtge2B7cHtwe3B7cHtwe3B7cHtwe3B7cHtwe3B7gHuAe4B7gHuAe4B7gHuAe4B7gHuAe4B7kHuQe5B7kHuQe5B7kHuQe5B7kHuQe5B7oHuge6B7oHuge6B7oHuge6B7oHuge6B7sHuwe7B7sHuwe7B7sHuwe7B7sHuwe7B7wHvAe8B7wHvAe8B7wHvAe8B7wHvAe8B70HvQe9B70HvQe9B70HvQe9B70HvQe9B74Hvge+B74Hvge+B74Hvge+B74Hvge+B78Hvwe/B78Hvwe/B78Hvwe/B78Hvwe/B8AHwAfAB8AHwAfAB8AHwAfAB8AHwAfAB8EHwQfBB8EHwQfBB8EHwQfBB8EHwQfBB8IHwgfCB8IHwgfCB8IHwgfCB8IHwgfCB8MHwwfDB8MHwwfDB8MHwwfDB8MHwwfDB8QHxAfEB8QHxAfEB8QHxAfEB8QHxAfEB8UHxQfFB8UHxQfFB8UHxQfFB8UHxQfFB8YHxgfGB8YHxgfGB8YHxgfGB8YHxgfGB8cHxwfHB8cHxwfHB8cHxwfHB8cHxwfHB8gHyAfIB8gHyAfIB8gHyAfIB8gHyAfIB8kHyQfJB8kHyQfJB8kHyQfJB8kHyQfJB8oHygfKB8oHygfKB8oHygfKB8oHygfKB8sHywfLB8sHywfLB8sHywfLB8sHywfLB8wHzAfMB8wHzAfMB8wHzAfMB8wHzAfMB80HzQfNB80HzQfNB80HzQfNB80HzQfNB84HzgfOB84HzgfOB84HzgfOB84HzgfOB88HzwfPB88HzwfPB88HzwfPB88HzwfPB9AH0AfQB9AH0AfQB9AH0AfQB9AH0AfQB9EH0QfRB9EH0QfRB9EH0QfRB9EH0QfRB9IH0gfSB9IH0gfSB9IH0gfSB9IH0gfSB9MH0wfTB9MH0wfTB9MH0wfTB9MH0wfTB9QH1AfUB9QH1AfUB9QH1AfUB9QH1AfUB9UH1QfVB9UH1QfVB9UH1QfVB9UH1QfVB9YH1gfWB9YH1gfWB9YH1gfWB9YH1gfWB9cH1wfXB9cH1wfXB9cH1wfXB9cH1wfXB9gH2AfYB9gH2AfYB9gH2AfYB9gH2AfYB9kH2QfZB9kH2QfZB9kH2QfZB9kH2QfZB9oH2gfaB9oH2gfaB9oH2gfaB9oH2gfaB9sH2wfbB9sH2wfbB9sH2wfbB9sH2wfbB9wH3AfcB9wH3AfcB9wH3AfcB9wH3AfcBw==",
          "dtype": "i2"
         },
         "y": {
          "bdata": "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",
          "dtype": "f8"
         }
        },
        {
         "marker": {
          "color": "red",
          "size": 8,
          "symbol": "x"
         },
         "mode": "lines+markers",
         "name": "Predicted",
         "type": "scatter",
         "x": {
          "bdata": "pwenB6cHpwenB6cHpwenB6gHqAeoB6gHqAeoB6gHqAeoB6gHqAeoB6kHqQepB6kHqQepB6kHqQepB6kHqQepB6oHqgeqB6oHqgeqB6oHqgeqB6oHqgeqB6sHqwerB6sHqwerB6sHqwerB6sHqwerB6wHrAesB6wHrAesB6wHrAesB6wHrAesB60HrQetB60HrQetB60HrQetB60HrQetB64HrgeuB64HrgeuB64HrgeuB64HrgeuB68HrwevB68HrwevB68HrwevB68HrwevB7AHsAewB7AHsAewB7AHsAewB7AHsAewB7EHsQexB7EHsQexB7EHsQexB7EHsQexB7IHsgeyB7IHsgeyB7IHsgeyB7IHsgeyB7MHswezB7MHswezB7MHswezB7MHswezB7QHtAe0B7QHtAe0B7QHtAe0B7QHtAe0B7UHtQe1B7UHtQe1B7UHtQe1B7UHtQe1B7YHtge2B7YHtge2B7YHtge2B7YHtge2B7cHtwe3B7cHtwe3B7cHtwe3B7cHtwe3B7gHuAe4B7gHuAe4B7gHuAe4B7gHuAe4B7kHuQe5B7kHuQe5B7kHuQe5B7kHuQe5B7oHuge6B7oHuge6B7oHuge6B7oHuge6B7sHuwe7B7sHuwe7B7sHuwe7B7sHuwe7B7wHvAe8B7wHvAe8B7wHvAe8B7wHvAe8B70HvQe9B70HvQe9B70HvQe9B70HvQe9B74Hvge+B74Hvge+B74Hvge+B74Hvge+B78Hvwe/B78Hvwe/B78Hvwe/B78Hvwe/B8AHwAfAB8AHwAfAB8AHwAfAB8AHwAfAB8EHwQfBB8EHwQfBB8EHwQfBB8EHwQfBB8IHwgfCB8IHwgfCB8IHwgfCB8IHwgfCB8MHwwfDB8MHwwfDB8MHwwfDB8MHwwfDB8QHxAfEB8QHxAfEB8QHxAfEB8QHxAfEB8UHxQfFB8UHxQfFB8UHxQfFB8UHxQfFB8YHxgfGB8YHxgfGB8YHxgfGB8YHxgfGB8cHxwfHB8cHxwfHB8cHxwfHB8cHxwfHB8gHyAfIB8gHyAfIB8gHyAfIB8gHyAfIB8kHyQfJB8kHyQfJB8kHyQfJB8kHyQfJB8oHygfKB8oHygfKB8oHygfKB8oHygfKB8sHywfLB8sHywfLB8sHywfLB8sHywfLB8wHzAfMB8wHzAfMB8wHzAfMB8wHzAfMB80HzQfNB80HzQfNB80HzQfNB80HzQfNB84HzgfOB84HzgfOB84HzgfOB84HzgfOB88HzwfPB88HzwfPB88HzwfPB88HzwfPB9AH0AfQB9AH0AfQB9AH0AfQB9AH0AfQB9EH0QfRB9EH0QfRB9EH0QfRB9EH0QfRB9IH0gfSB9IH0gfSB9IH0gfSB9IH0gfSB9MH0wfTB9MH0wfTB9MH0wfTB9MH0wfTB9QH1AfUB9QH1AfUB9QH1AfUB9QH1AfUB9UH1QfVB9UH1QfVB9UH1QfVB9UH1QfVB9YH1gfWB9YH1gfWB9YH1gfWB9YH1gfWB9cH1wfXB9cH1wfXB9cH1wfXB9cH1wfXB9gH2AfYB9gH2AfYB9gH2AfYB9gH2AfYB9kH2QfZB9kH2QfZB9kH2QfZB9kH2QfZB9oH2gfaB9oH2gfaB9oH2gfaB9oH2gfaB9sH2wfbB9sH2wfbB9sH2wfbB9sH2wfbB9wH3AfcB9wH3AfcB9wH3AfcB9wH3AfcBw==",
          "dtype": "i2"
         },
         "y": {
          "bdata": "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",
          "dtype": "f4"
         }
        }
       ],
       "layout": {
        "legend": {
         "title": {
          "text": "Legend"
         }
        },
        "template": {
         "data": {
          "bar": [
           {
            "error_x": {
             "color": "#2a3f5f"
            },
            "error_y": {
             "color": "#2a3f5f"
            },
            "marker": {
             "line": {
              "color": "white",
              "width": 0.5
             },
             "pattern": {
              "fillmode": "overlay",
              "size": 10,
              "solidity": 0.2
             }
            },
            "type": "bar"
           }
          ],
          "barpolar": [
           {
            "marker": {
             "line": {
              "color": "white",
              "width": 0.5
             },
             "pattern": {
              "fillmode": "overlay",
              "size": 10,
              "solidity": 0.2
             }
            },
            "type": "barpolar"
           }
          ],
          "carpet": [
           {
            "aaxis": {
             "endlinecolor": "#2a3f5f",
             "gridcolor": "#C8D4E3",
             "linecolor": "#C8D4E3",
             "minorgridcolor": "#C8D4E3",
             "startlinecolor": "#2a3f5f"
            },
            "baxis": {
             "endlinecolor": "#2a3f5f",
             "gridcolor": "#C8D4E3",
             "linecolor": "#C8D4E3",
             "minorgridcolor": "#C8D4E3",
             "startlinecolor": "#2a3f5f"
            },
            "type": "carpet"
           }
          ],
          "choropleth": [
           {
            "colorbar": {
             "outlinewidth": 0,
             "ticks": ""
            },
            "type": "choropleth"
           }
          ],
          "contour": [
           {
            "colorbar": {
             "outlinewidth": 0,
             "ticks": ""
            },
            "colorscale": [
             [
              0,
              "#0d0887"
             ],
             [
              0.1111111111111111,
              "#46039f"
             ],
             [
              0.2222222222222222,
              "#7201a8"
             ],
             [
              0.3333333333333333,
              "#9c179e"
             ],
             [
              0.4444444444444444,
              "#bd3786"
             ],
             [
              0.5555555555555556,
              "#d8576b"
             ],
             [
              0.6666666666666666,
              "#ed7953"
             ],
             [
              0.7777777777777778,
              "#fb9f3a"
             ],
             [
              0.8888888888888888,
              "#fdca26"
             ],
             [
              1,
              "#f0f921"
             ]
            ],
            "type": "contour"
           }
          ],
          "contourcarpet": [
           {
            "colorbar": {
             "outlinewidth": 0,
             "ticks": ""
            },
            "type": "contourcarpet"
           }
          ],
          "heatmap": [
           {
            "colorbar": {
             "outlinewidth": 0,
             "ticks": ""
            },
            "colorscale": [
             [
              0,
              "#0d0887"
             ],
             [
              0.1111111111111111,
              "#46039f"
             ],
             [
              0.2222222222222222,
              "#7201a8"
             ],
             [
              0.3333333333333333,
              "#9c179e"
             ],
             [
              0.4444444444444444,
              "#bd3786"
             ],
             [
              0.5555555555555556,
              "#d8576b"
             ],
             [
              0.6666666666666666,
              "#ed7953"
             ],
             [
              0.7777777777777778,
              "#fb9f3a"
             ],
             [
              0.8888888888888888,
              "#fdca26"
             ],
             [
              1,
              "#f0f921"
             ]
            ],
            "type": "heatmap"
           }
          ],
          "histogram": [
           {
            "marker": {
             "pattern": {
              "fillmode": "overlay",
              "size": 10,
              "solidity": 0.2
             }
            },
            "type": "histogram"
           }
          ],
          "histogram2d": [
           {
            "colorbar": {
             "outlinewidth": 0,
             "ticks": ""
            },
            "colorscale": [
             [
              0,
              "#0d0887"
             ],
             [
              0.1111111111111111,
              "#46039f"
             ],
             [
              0.2222222222222222,
              "#7201a8"
             ],
             [
              0.3333333333333333,
              "#9c179e"
             ],
             [
              0.4444444444444444,
              "#bd3786"
             ],
             [
              0.5555555555555556,
              "#d8576b"
             ],
             [
              0.6666666666666666,
              "#ed7953"
             ],
             [
              0.7777777777777778,
              "#fb9f3a"
             ],
             [
              0.8888888888888888,
              "#fdca26"
             ],
             [
              1,
              "#f0f921"
             ]
            ],
            "type": "histogram2d"
           }
          ],
          "histogram2dcontour": [
           {
            "colorbar": {
             "outlinewidth": 0,
             "ticks": ""
            },
            "colorscale": [
             [
              0,
              "#0d0887"
             ],
             [
              0.1111111111111111,
              "#46039f"
             ],
             [
              0.2222222222222222,
              "#7201a8"
             ],
             [
              0.3333333333333333,
              "#9c179e"
             ],
             [
              0.4444444444444444,
              "#bd3786"
             ],
             [
              0.5555555555555556,
              "#d8576b"
             ],
             [
              0.6666666666666666,
              "#ed7953"
             ],
             [
              0.7777777777777778,
              "#fb9f3a"
             ],
             [
              0.8888888888888888,
              "#fdca26"
             ],
             [
              1,
              "#f0f921"
             ]
            ],
            "type": "histogram2dcontour"
           }
          ],
          "mesh3d": [
           {
            "colorbar": {
             "outlinewidth": 0,
             "ticks": ""
            },
            "type": "mesh3d"
           }
          ],
          "parcoords": [
           {
            "line": {
             "colorbar": {
              "outlinewidth": 0,
              "ticks": ""
             }
            },
            "type": "parcoords"
           }
          ],
          "pie": [
           {
            "automargin": true,
            "type": "pie"
           }
          ],
          "scatter": [
           {
            "fillpattern": {
             "fillmode": "overlay",
             "size": 10,
             "solidity": 0.2
            },
            "type": "scatter"
           }
          ],
          "scatter3d": [
           {
            "line": {
             "colorbar": {
              "outlinewidth": 0,
              "ticks": ""
             }
            },
            "marker": {
             "colorbar": {
              "outlinewidth": 0,
              "ticks": ""
             }
            },
            "type": "scatter3d"
           }
          ],
          "scattercarpet": [
           {
            "marker": {
             "colorbar": {
              "outlinewidth": 0,
              "ticks": ""
             }
            },
            "type": "scattercarpet"
           }
          ],
          "scattergeo": [
           {
            "marker": {
             "colorbar": {
              "outlinewidth": 0,
              "ticks": ""
             }
            },
            "type": "scattergeo"
           }
          ],
          "scattergl": [
           {
            "marker": {
             "colorbar": {
              "outlinewidth": 0,
              "ticks": ""
             }
            },
            "type": "scattergl"
           }
          ],
          "scattermap": [
           {
            "marker": {
             "colorbar": {
              "outlinewidth": 0,
              "ticks": ""
             }
            },
            "type": "scattermap"
           }
          ],
          "scattermapbox": [
           {
            "marker": {
             "colorbar": {
              "outlinewidth": 0,
              "ticks": ""
             }
            },
            "type": "scattermapbox"
           }
          ],
          "scatterpolar": [
           {
            "marker": {
             "colorbar": {
              "outlinewidth": 0,
              "ticks": ""
             }
            },
            "type": "scatterpolar"
           }
          ],
          "scatterpolargl": [
           {
            "marker": {
             "colorbar": {
              "outlinewidth": 0,
              "ticks": ""
             }
            },
            "type": "scatterpolargl"
           }
          ],
          "scatterternary": [
           {
            "marker": {
             "colorbar": {
              "outlinewidth": 0,
              "ticks": ""
             }
            },
            "type": "scatterternary"
           }
          ],
          "surface": [
           {
            "colorbar": {
             "outlinewidth": 0,
             "ticks": ""
            },
            "colorscale": [
             [
              0,
              "#0d0887"
             ],
             [
              0.1111111111111111,
              "#46039f"
             ],
             [
              0.2222222222222222,
              "#7201a8"
             ],
             [
              0.3333333333333333,
              "#9c179e"
             ],
             [
              0.4444444444444444,
              "#bd3786"
             ],
             [
              0.5555555555555556,
              "#d8576b"
             ],
             [
              0.6666666666666666,
              "#ed7953"
             ],
             [
              0.7777777777777778,
              "#fb9f3a"
             ],
             [
              0.8888888888888888,
              "#fdca26"
             ],
             [
              1,
              "#f0f921"
             ]
            ],
            "type": "surface"
           }
          ],
          "table": [
           {
            "cells": {
             "fill": {
              "color": "#EBF0F8"
             },
             "line": {
              "color": "white"
             }
            },
            "header": {
             "fill": {
              "color": "#C8D4E3"
             },
             "line": {
              "color": "white"
             }
            },
            "type": "table"
           }
          ]
         },
         "layout": {
          "annotationdefaults": {
           "arrowcolor": "#2a3f5f",
           "arrowhead": 0,
           "arrowwidth": 1
          },
          "autotypenumbers": "strict",
          "coloraxis": {
           "colorbar": {
            "outlinewidth": 0,
            "ticks": ""
           }
          },
          "colorscale": {
           "diverging": [
            [
             0,
             "#8e0152"
            ],
            [
             0.1,
             "#c51b7d"
            ],
            [
             0.2,
             "#de77ae"
            ],
            [
             0.3,
             "#f1b6da"
            ],
            [
             0.4,
             "#fde0ef"
            ],
            [
             0.5,
             "#f7f7f7"
            ],
            [
             0.6,
             "#e6f5d0"
            ],
            [
             0.7,
             "#b8e186"
            ],
            [
             0.8,
             "#7fbc41"
            ],
            [
             0.9,
             "#4d9221"
            ],
            [
             1,
             "#276419"
            ]
           ],
           "sequential": [
            [
             0,
             "#0d0887"
            ],
            [
             0.1111111111111111,
             "#46039f"
            ],
            [
             0.2222222222222222,
             "#7201a8"
            ],
            [
             0.3333333333333333,
             "#9c179e"
            ],
            [
             0.4444444444444444,
             "#bd3786"
            ],
            [
             0.5555555555555556,
             "#d8576b"
            ],
            [
             0.6666666666666666,
             "#ed7953"
            ],
            [
             0.7777777777777778,
             "#fb9f3a"
            ],
            [
             0.8888888888888888,
             "#fdca26"
            ],
            [
             1,
             "#f0f921"
            ]
           ],
           "sequentialminus": [
            [
             0,
             "#0d0887"
            ],
            [
             0.1111111111111111,
             "#46039f"
            ],
            [
             0.2222222222222222,
             "#7201a8"
            ],
            [
             0.3333333333333333,
             "#9c179e"
            ],
            [
             0.4444444444444444,
             "#bd3786"
            ],
            [
             0.5555555555555556,
             "#d8576b"
            ],
            [
             0.6666666666666666,
             "#ed7953"
            ],
            [
             0.7777777777777778,
             "#fb9f3a"
            ],
            [
             0.8888888888888888,
             "#fdca26"
            ],
            [
             1,
             "#f0f921"
            ]
           ]
          },
          "colorway": [
           "#636efa",
           "#EF553B",
           "#00cc96",
           "#ab63fa",
           "#FFA15A",
           "#19d3f3",
           "#FF6692",
           "#B6E880",
           "#FF97FF",
           "#FECB52"
          ],
          "font": {
           "color": "#2a3f5f"
          },
          "geo": {
           "bgcolor": "white",
           "lakecolor": "white",
           "landcolor": "white",
           "showlakes": true,
           "showland": true,
           "subunitcolor": "#C8D4E3"
          },
          "hoverlabel": {
           "align": "left"
          },
          "hovermode": "closest",
          "mapbox": {
           "style": "light"
          },
          "paper_bgcolor": "white",
          "plot_bgcolor": "white",
          "polar": {
           "angularaxis": {
            "gridcolor": "#EBF0F8",
            "linecolor": "#EBF0F8",
            "ticks": ""
           },
           "bgcolor": "white",
           "radialaxis": {
            "gridcolor": "#EBF0F8",
            "linecolor": "#EBF0F8",
            "ticks": ""
           }
          },
          "scene": {
           "xaxis": {
            "backgroundcolor": "white",
            "gridcolor": "#DFE8F3",
            "gridwidth": 2,
            "linecolor": "#EBF0F8",
            "showbackground": true,
            "ticks": "",
            "zerolinecolor": "#EBF0F8"
           },
           "yaxis": {
            "backgroundcolor": "white",
            "gridcolor": "#DFE8F3",
            "gridwidth": 2,
            "linecolor": "#EBF0F8",
            "showbackground": true,
            "ticks": "",
            "zerolinecolor": "#EBF0F8"
           },
           "zaxis": {
            "backgroundcolor": "white",
            "gridcolor": "#DFE8F3",
            "gridwidth": 2,
            "linecolor": "#EBF0F8",
            "showbackground": true,
            "ticks": "",
            "zerolinecolor": "#EBF0F8"
           }
          },
          "shapedefaults": {
           "line": {
            "color": "#2a3f5f"
           }
          },
          "ternary": {
           "aaxis": {
            "gridcolor": "#DFE8F3",
            "linecolor": "#A2B1C6",
            "ticks": ""
           },
           "baxis": {
            "gridcolor": "#DFE8F3",
            "linecolor": "#A2B1C6",
            "ticks": ""
           },
           "bgcolor": "white",
           "caxis": {
            "gridcolor": "#DFE8F3",
            "linecolor": "#A2B1C6",
            "ticks": ""
           }
          },
          "title": {
           "x": 0.05
          },
          "xaxis": {
           "automargin": true,
           "gridcolor": "#EBF0F8",
           "linecolor": "#EBF0F8",
           "ticks": "",
           "title": {
            "standoff": 15
           },
           "zerolinecolor": "#EBF0F8",
           "zerolinewidth": 2
          },
          "yaxis": {
           "automargin": true,
           "gridcolor": "#EBF0F8",
           "linecolor": "#EBF0F8",
           "ticks": "",
           "title": {
            "standoff": 15
           },
           "zerolinecolor": "#EBF0F8",
           "zerolinewidth": 2
          }
         }
        },
        "title": {
         "text": "Actual vs. Predicted Temperature (LSTM)"
        },
        "xaxis": {
         "title": {
          "text": "Year"
         }
        },
        "yaxis": {
         "title": {
          "text": "Temperature"
         }
        }
       }
      }
     },
     "metadata": {},
     "output_type": "display_data"
    }
   ],
   "source": [
    "import plotly.graph_objects as go\n",
    "\n",
    "# Create figure\n",
    "fig = go.Figure()\n",
    "\n",
    "# Add actual values\n",
    "fig.add_trace(go.Scatter(\n",
    "    x=years, \n",
    "    y=y_val_inv.flatten(), \n",
    "    mode='lines+markers', \n",
    "    name='Actual',\n",
    "    marker=dict(symbol=\"circle\", size=6, color='blue')\n",
    "))\n",
    "\n",
    "# Add predicted values\n",
    "fig.add_trace(go.Scatter(\n",
    "    x=years, \n",
    "    y=y_pred_inv.flatten(), \n",
    "    mode='lines+markers', \n",
    "    name='Predicted',\n",
    "    marker=dict(symbol=\"x\", size=8, color='red')\n",
    "))\n",
    "\n",
    "# Layout customization\n",
    "fig.update_layout(\n",
    "    title=\"Actual vs. Predicted Temperature (LSTM)\",\n",
    "    xaxis_title=\"Year\",\n",
    "    yaxis_title=\"Temperature\",\n",
    "    legend_title=\"Legend\",\n",
    "    template=\"plotly_white\"\n",
    ")\n",
    "\n",
    "# Show figure\n",
    "fig.show()\n"
   ]
  }
 ],
 "metadata": {
  "kernelspec": {
   "display_name": "Python (.venv)",
   "language": "python",
   "name": ".venv"
  },
  "language_info": {
   "codemirror_mode": {
    "name": "ipython",
    "version": 3
   },
   "file_extension": ".py",
   "mimetype": "text/x-python",
   "name": "python",
   "nbconvert_exporter": "python",
   "pygments_lexer": "ipython3",
   "version": "3.11.3"
  }
 },
 "nbformat": 4,
 "nbformat_minor": 2
}
